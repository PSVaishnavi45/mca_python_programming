{
 "cells": [
  {
   "cell_type": "code",
   "execution_count": null,
   "id": "952e9de9",
   "metadata": {},
   "outputs": [],
   "source": [
    "poem='''johny johny,yes papa\n",
    "telling lies,no papa\n",
    "eating sugar,no papa\n",
    "open your mouth,hahaha'''\n",
    "x=poem[0:20]\n",
    "y=poem[21:42]\n",
    "print(x)\n",
    "print(y)"
   ]
  },
  {
   "cell_type": "code",
   "execution_count": 1,
   "id": "766d527c",
   "metadata": {},
   "outputs": [
    {
     "name": "stdout",
     "output_type": "stream",
     "text": [
      "maintain silence in library\n",
      "MAINTAIN SILENCE IN LIBRARY\n"
     ]
    }
   ],
   "source": [
    "#formating-adjusting output based on requirements\n",
    "s=\"maintain silence in library\"\n",
    "supper=s.upper()\n",
    "print(s)\n",
    "print(supper)"
   ]
  },
  {
   "cell_type": "code",
   "execution_count": null,
   "id": "829b3b1b",
   "metadata": {},
   "outputs": [],
   "source": [
    "#lower()\n",
    "#capitalize()\n",
    "#title()\n",
    "#swapcase()\n",
    "#casefold()"
   ]
  },
  {
   "cell_type": "code",
   "execution_count": 7,
   "id": "3c22c698",
   "metadata": {},
   "outputs": [
    {
     "name": "stdout",
     "output_type": "stream",
     "text": [
      "maintain silence in library\n",
      "MAINTAIN SILENCE IN LIBRARY\n",
      "maintain silence in library\n",
      "Maintain silence in library\n",
      "Maintain Silence In Library\n",
      "MAINTAIN SILENCE IN LIBRARY\n"
     ]
    }
   ],
   "source": [
    "s=\"maintain silence in library\"\n",
    "supper=s.upper()\n",
    "slower=s.lower()\n",
    "scap=s.capitalize()\n",
    "stitle=s.title()\n",
    "swap=s.swapcase()\n",
    "print(s)\n",
    "print(supper)\n",
    "print(slower)\n",
    "print(scap)\n",
    "print(stitle)\n",
    "print(swap)"
   ]
  },
  {
   "cell_type": "code",
   "execution_count": 9,
   "id": "4cd0b1a3",
   "metadata": {},
   "outputs": [
    {
     "name": "stdout",
     "output_type": "stream",
     "text": [
      "MAINTAIN SILENCE IN LIBRARY\n",
      "maintain silence in library\n"
     ]
    }
   ],
   "source": [
    "s=\"MAINTAIN SILENCE IN LIBRARY\"\n",
    "sfold=s.casefold()\n",
    "print(s)\n",
    "print(sfold)"
   ]
  },
  {
   "cell_type": "code",
   "execution_count": 11,
   "id": "c1f70a6b",
   "metadata": {},
   "outputs": [
    {
     "name": "stdout",
     "output_type": "stream",
     "text": [
      "seven     \n",
      "seven-----\n"
     ]
    }
   ],
   "source": [
    "a=\"seven\"\n",
    "a1=a.ljust(10)#space in character\n",
    "print(a1)\n"
   ]
  },
  {
   "cell_type": "code",
   "execution_count": 15,
   "id": "90098e87",
   "metadata": {},
   "outputs": [
    {
     "name": "stdout",
     "output_type": "stream",
     "text": [
      "seven-----\n"
     ]
    }
   ],
   "source": [
    "a=\"seven\"\n",
    "a2=a.ljust(10,'-')#area,fillchar\n",
    "print(a2)"
   ]
  },
  {
   "cell_type": "code",
   "execution_count": 12,
   "id": "74244505",
   "metadata": {},
   "outputs": [
    {
     "name": "stdout",
     "output_type": "stream",
     "text": [
      "               seven\n"
     ]
    }
   ],
   "source": [
    "a=\"seven\"\n",
    "a3=a.rjust(20)\n",
    "print(a3)"
   ]
  },
  {
   "cell_type": "code",
   "execution_count": 13,
   "id": "ec0a7a81",
   "metadata": {},
   "outputs": [
    {
     "name": "stdout",
     "output_type": "stream",
     "text": [
      "|||||||||||||||seven\n"
     ]
    }
   ],
   "source": [
    "a=\"seven\"\n",
    "a4=a.rjust(20,\"|\")\n",
    "print(a4)"
   ]
  },
  {
   "cell_type": "code",
   "execution_count": 16,
   "id": "93e8a1a2",
   "metadata": {},
   "outputs": [
    {
     "name": "stdout",
     "output_type": "stream",
     "text": [
      "    seven    \n"
     ]
    }
   ],
   "source": [
    "a=\"seven\"\n",
    "a5=a.center(13)\n",
    "print(a5)"
   ]
  },
  {
   "cell_type": "code",
   "execution_count": 17,
   "id": "d0f01e5d",
   "metadata": {},
   "outputs": [
    {
     "name": "stdout",
     "output_type": "stream",
     "text": [
      "****seven****\n"
     ]
    }
   ],
   "source": [
    "a=\"seven\"\n",
    "a6=a.center(13,\"*\")\n",
    "print(a6)"
   ]
  },
  {
   "cell_type": "code",
   "execution_count": 18,
   "id": "cfdac3b9",
   "metadata": {},
   "outputs": [
    {
     "name": "stdout",
     "output_type": "stream",
     "text": [
      "enter the inputvaishu\n",
      "True\n"
     ]
    }
   ],
   "source": [
    "#validation-\n",
    "x=input(\"enter the input:\")\n",
    "print(x.isalpha())"
   ]
  },
  {
   "cell_type": "code",
   "execution_count": 19,
   "id": "0c428888",
   "metadata": {},
   "outputs": [
    {
     "name": "stdout",
     "output_type": "stream",
     "text": [
      "enter the input123345\n",
      "True\n"
     ]
    }
   ],
   "source": [
    "x=input(\"enter the input:\")\n",
    "print(x.isalnum())"
   ]
  },
  {
   "cell_type": "code",
   "execution_count": 21,
   "id": "694ce135",
   "metadata": {},
   "outputs": [
    {
     "name": "stdout",
     "output_type": "stream",
     "text": [
      "enter the input2299\n",
      "True\n"
     ]
    }
   ],
   "source": [
    "x=input(\"enter the input:\")\n",
    "print(x.isdigit())"
   ]
  },
  {
   "cell_type": "code",
   "execution_count": 25,
   "id": "53ad9685",
   "metadata": {},
   "outputs": [
    {
     "name": "stdout",
     "output_type": "stream",
     "text": [
      "enter the inputvaishuu\n",
      "False\n"
     ]
    }
   ],
   "source": [
    "x=input(\"enter the input:\")\n",
    "print(x.isspace())"
   ]
  },
  {
   "cell_type": "code",
   "execution_count": 27,
   "id": "d21b8517",
   "metadata": {},
   "outputs": [
    {
     "name": "stdout",
     "output_type": "stream",
     "text": [
      "enter the input:hello neha bindu\n",
      "hello neha bindu\n",
      "False\n",
      "True\n",
      "False\n"
     ]
    }
   ],
   "source": [
    "a=input(\"enter the input:\")\n",
    "a1=a.startswith(\"a\")\n",
    "a2=a.startswith(\"hello\")\n",
    "a3=a.startswith('b')\n",
    "print(a,a1,a2,a3,sep=\"\\n\")"
   ]
  },
  {
   "cell_type": "code",
   "execution_count": 28,
   "id": "e343c62a",
   "metadata": {},
   "outputs": [
    {
     "name": "stdout",
     "output_type": "stream",
     "text": [
      "enter the input:neha bindu\n",
      "neha bindu\n",
      "False\n",
      "True\n",
      "False\n"
     ]
    }
   ],
   "source": [
    "a=input(\"enter the input:\")\n",
    "a1=a.endswith(\"a\")\n",
    "a2=a.endswith(\"u\")\n",
    "a3=a.endswith('b')\n",
    "print(a,a1,a2,a3,sep=\"\\n\")"
   ]
  },
  {
   "cell_type": "code",
   "execution_count": null,
   "id": "87112425",
   "metadata": {},
   "outputs": [],
   "source": []
  }
 ],
 "metadata": {
  "kernelspec": {
   "display_name": "Python 3 (ipykernel)",
   "language": "python",
   "name": "python3"
  },
  "language_info": {
   "codemirror_mode": {
    "name": "ipython",
    "version": 3
   },
   "file_extension": ".py",
   "mimetype": "text/x-python",
   "name": "python",
   "nbconvert_exporter": "python",
   "pygments_lexer": "ipython3",
   "version": "3.11.5"
  }
 },
 "nbformat": 4,
 "nbformat_minor": 5
}
