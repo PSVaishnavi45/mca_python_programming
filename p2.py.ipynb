{
 "cells": [
  {
   "cell_type": "code",
   "execution_count": 2,
   "id": "9cbd980d",
   "metadata": {},
   "outputs": [],
   "source": [
    "from turtle import *\n",
    "speed(-1)\n",
    "\n",
    "side=6\n",
    "for i in range(side):\n",
    "    for i in range(side):\n",
    "        for i in range(side):\n",
    "            fd(25)\n",
    "            lt(360/side)\n",
    "            dot(2)\n",
    "        fd(50)\n",
    "        lt(360/side)\n",
    "    fd(100)\n",
    "    lt(360/side)\n",
    "    \n",
    "hideturtle()\n",
    "mainloop()"
   ]
  },
  {
   "cell_type": "code",
   "execution_count": null,
   "id": "02ef1df3",
   "metadata": {},
   "outputs": [],
   "source": []
  }
 ],
 "metadata": {
  "kernelspec": {
   "display_name": "Python 3 (ipykernel)",
   "language": "python",
   "name": "python3"
  },
  "language_info": {
   "codemirror_mode": {
    "name": "ipython",
    "version": 3
   },
   "file_extension": ".py",
   "mimetype": "text/x-python",
   "name": "python",
   "nbconvert_exporter": "python",
   "pygments_lexer": "ipython3",
   "version": "3.11.5"
  }
 },
 "nbformat": 4,
 "nbformat_minor": 5
}
