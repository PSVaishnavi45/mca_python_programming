{
 "cells": [
  {
   "cell_type": "code",
   "execution_count": 2,
   "id": "13dfff60",
   "metadata": {},
   "outputs": [
    {
     "name": "stdout",
     "output_type": "stream",
     "text": [
      "Enter N: 3\n",
      "3\n",
      "3\n",
      "3\n",
      "Sum: 9\n"
     ]
    }
   ],
   "source": [
    "n = int(input(\"Enter N: \"))\n",
    "sum = 0\n",
    "for i in range(n):\n",
    "    a = int(input())\n",
    "    sum = sum + a\n",
    "\n",
    "print(\"Sum:\", sum)"
   ]
  },
  {
   "cell_type": "code",
   "execution_count": 4,
   "id": "416a489c",
   "metadata": {},
   "outputs": [
    {
     "name": "stdout",
     "output_type": "stream",
     "text": [
      "Enter N: 4\n",
      "5\n",
      "6\n",
      "3\n",
      "2\n",
      "Sum: 4.0\n"
     ]
    }
   ],
   "source": [
    "n = int(input(\"Enter N: \"))\n",
    "sum = 0\n",
    "for i in range(n):\n",
    "    a = int(input())\n",
    "    sum = sum + a/n\n",
    "\n",
    "print(\"Sum:\", sum)"
   ]
  },
  {
   "cell_type": "code",
   "execution_count": 8,
   "id": "f72627e6",
   "metadata": {},
   "outputs": [
    {
     "name": "stdout",
     "output_type": "stream",
     "text": [
      "enter a string:vaishu\n",
      "uhsiav\n"
     ]
    }
   ],
   "source": [
    "s=input(\"enter a string:\")\n",
    "reverse=s[::-1]\n",
    "print(reverse)"
   ]
  },
  {
   "cell_type": "code",
   "execution_count": 10,
   "id": "569e8541",
   "metadata": {},
   "outputs": [
    {
     "name": "stdout",
     "output_type": "stream",
     "text": [
      "Enter a word: apple\n",
      "2 3\n"
     ]
    }
   ],
   "source": [
    "word = input(\"Enter a word: \")\n",
    "\n",
    "vowels = 0\n",
    "consonants = 0\n",
    "\n",
    "for ch in word:\n",
    "    if ch in 'AEIOUaeiou':\n",
    "        vowels = vowels + 1\n",
    "    else:\n",
    "        consonants = consonants + 1\n",
    "\n",
    "print(vowels, consonants)"
   ]
  },
  {
   "cell_type": "code",
   "execution_count": 1,
   "id": "7d9ea333",
   "metadata": {},
   "outputs": [
    {
     "name": "stdout",
     "output_type": "stream",
     "text": [
      "Palindrome\n"
     ]
    }
   ],
   "source": [
    "num = 1221\n",
    "temp = num\n",
    "reverse = 0\n",
    "while temp > 0:\n",
    "    remainder = temp % 10\n",
    "    reverse = (reverse * 10) + remainder\n",
    "    temp = temp // 10\n",
    "if num == reverse:\n",
    "  print('Palindrome')\n",
    "else:\n",
    "  print(\"Not Palindrome\")"
   ]
  },
  {
   "cell_type": "code",
   "execution_count": 1,
   "id": "135141de",
   "metadata": {
    "collapsed": true
   },
   "outputs": [
    {
     "name": "stdout",
     "output_type": "stream",
     "text": [
      "Enter number of rows: 3\n",
      "*\n",
      "**\n",
      "***\n"
     ]
    }
   ],
   "source": [
    "N = int(input(\"Enter number of rows: \"))\n",
    "\n",
    "for i in range(1, N + 1):\n",
    "    print('*' * i)"
   ]
  },
  {
   "cell_type": "code",
   "execution_count": 2,
   "id": "697f1b3a",
   "metadata": {},
   "outputs": [
    {
     "name": "stdout",
     "output_type": "stream",
     "text": [
      "Enter a number: 5\n",
      "120\n"
     ]
    }
   ],
   "source": [
    "n = int(input(\"Enter a number: \"))\n",
    "fact = 1\n",
    "\n",
    "for i in range(1, n + 1):\n",
    "    fact = fact * i\n",
    "\n",
    "print(fact)"
   ]
  },
  {
   "cell_type": "markdown",
   "id": "8b0e4f8c",
   "metadata": {},
   "source": [
    "## count digits in a number"
   ]
  },
  {
   "cell_type": "code",
   "execution_count": 1,
   "id": "dce646cc",
   "metadata": {},
   "outputs": [
    {
     "name": "stdout",
     "output_type": "stream",
     "text": [
      "Enter a number: 15\n",
      "Number of digits: 2\n"
     ]
    }
   ],
   "source": [
    "num = input(\"Enter a number: \")\n",
    "print(\"Number of digits:\", len(num))"
   ]
  },
  {
   "cell_type": "markdown",
   "id": "5217123b",
   "metadata": {},
   "source": [
    "## fibonacci"
   ]
  },
  {
   "cell_type": "code",
   "execution_count": 3,
   "id": "6c3d1568",
   "metadata": {},
   "outputs": [
    {
     "name": "stdout",
     "output_type": "stream",
     "text": [
      "Enter number of terms: 5\n",
      "0\n",
      "1\n",
      "1\n",
      "2\n",
      "3\n"
     ]
    }
   ],
   "source": [
    "n = int(input(\"Enter number of terms: \"))\n",
    "a = 0\n",
    "b = 1\n",
    "for i in range(n):\n",
    "    print(a)\n",
    "    c = a + b\n",
    "    a = b\n",
    "    b = c"
   ]
  },
  {
   "cell_type": "markdown",
   "id": "167790a8",
   "metadata": {},
   "source": [
    "## Prime Check"
   ]
  },
  {
   "cell_type": "code",
   "execution_count": 5,
   "id": "f9c51bfa",
   "metadata": {},
   "outputs": [
    {
     "name": "stdout",
     "output_type": "stream",
     "text": [
      "Enter a number: 15\n",
      "Not Prime\n"
     ]
    }
   ],
   "source": [
    "num = int(input(\"Enter a number: \"))\n",
    "if num > 1:\n",
    "    for i in range(2, num):\n",
    "        if num % i == 0:\n",
    "            print(\"Not Prime\")\n",
    "            break\n",
    "    else:\n",
    "        print(\"Prime\")\n",
    "else:\n",
    "    print(\"Not Prime\")"
   ]
  },
  {
   "cell_type": "markdown",
   "id": "3e508ccc",
   "metadata": {},
   "source": [
    "## Rotate list"
   ]
  },
  {
   "cell_type": "code",
   "execution_count": 10,
   "id": "2fa3493d",
   "metadata": {},
   "outputs": [
    {
     "name": "stdout",
     "output_type": "stream",
     "text": [
      "[4, 5, 1, 2, 3]\n"
     ]
    }
   ],
   "source": [
    "lst = [1, 2, 3, 4, 5]\n",
    "k = 2\n",
    "rotated = lst[-k:] + lst[:-k]\n",
    "print(rotated)"
   ]
  },
  {
   "cell_type": "markdown",
   "id": "08ae8f40",
   "metadata": {},
   "source": [
    "## Word frequency"
   ]
  },
  {
   "cell_type": "code",
   "execution_count": 14,
   "id": "961e2612",
   "metadata": {},
   "outputs": [
    {
     "name": "stdout",
     "output_type": "stream",
     "text": [
      "Enter a sentence: Hi how are u i am fin what about u\n",
      "u -> 2\n",
      "how -> 1\n",
      "Hi -> 1\n",
      "am -> 1\n",
      "what -> 1\n",
      "about -> 1\n",
      "fin -> 1\n",
      "i -> 1\n",
      "are -> 1\n"
     ]
    }
   ],
   "source": [
    "text = input(\"Enter a sentence: \")\n",
    "words = text.split()\n",
    "\n",
    "for word in set(words):\n",
    "    print(word, \"->\", words.count(word))"
   ]
  },
  {
   "cell_type": "markdown",
   "id": "a358f066",
   "metadata": {},
   "source": [
    "## GCD (Greatest Common Divisor)"
   ]
  },
  {
   "cell_type": "code",
   "execution_count": 16,
   "id": "b6cb9399",
   "metadata": {},
   "outputs": [
    {
     "name": "stdout",
     "output_type": "stream",
     "text": [
      "Enter a: 16\n",
      "Enter b: 19\n",
      "GCD: 1\n"
     ]
    }
   ],
   "source": [
    "import math\n",
    "\n",
    "a = int(input(\"Enter a: \"))\n",
    "b = int(input(\"Enter b: \"))\n",
    "\n",
    "print(\"GCD:\", math.gcd(a, b))"
   ]
  },
  {
   "cell_type": "markdown",
   "id": "48fd500c",
   "metadata": {},
   "source": [
    "## Valid Parentheses"
   ]
  },
  {
   "cell_type": "code",
   "execution_count": 18,
   "id": "4f66a81a",
   "metadata": {},
   "outputs": [
    {
     "name": "stdout",
     "output_type": "stream",
     "text": [
      "Enter parentheses string: (]\n",
      "Invalid\n"
     ]
    }
   ],
   "source": [
    "s = input(\"Enter parentheses string: \")\n",
    "stack = []\n",
    "\n",
    "for c in s:\n",
    "    if c in \"({[\":\n",
    "        stack.append(c)\n",
    "    elif c in \")}]\":\n",
    "        if not stack:\n",
    "            print(\"Invalid\")\n",
    "            break\n",
    "        if c == \")\" and stack[-1] != \"(\" or \\\n",
    "           c == \"}\" and stack[-1] != \"{\" or \\\n",
    "           c == \"]\" and stack[-1] != \"[\":\n",
    "            print(\"Invalid\")\n",
    "            break\n",
    "        stack.pop()\n",
    "else:\n",
    "    print(\"Valid\" if not stack else \"Invalid\")\n"
   ]
  },
  {
   "cell_type": "markdown",
   "id": "4f996b06",
   "metadata": {},
   "source": [
    "## power function"
   ]
  },
  {
   "cell_type": "code",
   "execution_count": 20,
   "id": "0153e0fb",
   "metadata": {},
   "outputs": [
    {
     "name": "stdout",
     "output_type": "stream",
     "text": [
      "Enter a: 2\n",
      "Enter b: 3\n",
      "8\n"
     ]
    }
   ],
   "source": [
    "a = int(input(\"Enter a: \"))\n",
    "b = int(input(\"Enter b: \"))\n",
    "print(a ** b)"
   ]
  },
  {
   "cell_type": "markdown",
   "id": "8c2dd776",
   "metadata": {},
   "source": [
    "## Find Missing"
   ]
  },
  {
   "cell_type": "code",
   "execution_count": 23,
   "id": "41ebd5ee",
   "metadata": {},
   "outputs": [
    {
     "name": "stdout",
     "output_type": "stream",
     "text": [
      "Missing number: 3\n"
     ]
    }
   ],
   "source": [
    "lst = [1, 2, 4, 5, 6]\n",
    "n = len(lst) + 1 \n",
    "total = n * (n + 1) // 2\n",
    "missing = total - sum(lst)\n",
    "print(\"Missing number:\", missing)"
   ]
  },
  {
   "cell_type": "markdown",
   "id": "0bd73de2",
   "metadata": {},
   "source": [
    "## Bubble Sort"
   ]
  },
  {
   "cell_type": "code",
   "execution_count": 24,
   "id": "cb10d4f3",
   "metadata": {},
   "outputs": [
    {
     "name": "stdout",
     "output_type": "stream",
     "text": [
      "Sorted list: [1, 2, 5, 5, 6, 9]\n"
     ]
    }
   ],
   "source": [
    "lst = [5, 2, 9, 1, 5, 6]\n",
    "\n",
    "n = len(lst)\n",
    "for i in range(n):\n",
    "    for j in range(0, n-i-1):\n",
    "        if lst[j] > lst[j+1]:\n",
    "            lst[j], lst[j+1] = lst[j+1], lst[j]\n",
    "\n",
    "print(\"Sorted list:\", lst)"
   ]
  },
  {
   "cell_type": "markdown",
   "id": "94880348",
   "metadata": {},
   "source": [
    "## Transpose matrix"
   ]
  },
  {
   "cell_type": "code",
   "execution_count": 25,
   "id": "1d303f17",
   "metadata": {},
   "outputs": [
    {
     "name": "stdout",
     "output_type": "stream",
     "text": [
      "Transpose:\n",
      " [[1 4]\n",
      " [2 5]\n",
      " [3 6]]\n"
     ]
    }
   ],
   "source": [
    "import numpy as np\n",
    "\n",
    "matrix = np.array([\n",
    "    [1, 2, 3],\n",
    "    [4, 5, 6]\n",
    "])\n",
    "\n",
    "transpose = matrix.T\n",
    "print(\"Transpose:\\n\", transpose)"
   ]
  },
  {
   "cell_type": "markdown",
   "id": "cfcb648e",
   "metadata": {},
   "source": [
    "## Second largest"
   ]
  },
  {
   "cell_type": "code",
   "execution_count": 31,
   "id": "921e0d2e",
   "metadata": {},
   "outputs": [
    {
     "name": "stdout",
     "output_type": "stream",
     "text": [
      "Second largest: 7\n"
     ]
    }
   ],
   "source": [
    "lst = [4, 2, 9, 7, 9, 4]\n",
    "unique = list(set(lst))\n",
    "unique.sort()\n",
    "print(\"Second largest:\", unique[-2])"
   ]
  },
  {
   "cell_type": "markdown",
   "id": "b244a4d2",
   "metadata": {},
   "source": [
    "## Anagram"
   ]
  },
  {
   "cell_type": "code",
   "execution_count": 34,
   "id": "ca7a790a",
   "metadata": {},
   "outputs": [
    {
     "name": "stdout",
     "output_type": "stream",
     "text": [
      "Anagram\n"
     ]
    }
   ],
   "source": [
    "s1 = \"listen\"\n",
    "s2 = \"silent\"\n",
    "\n",
    "if sorted(s1) == sorted(s2):\n",
    "    print(\"Anagram\")\n",
    "else:\n",
    "    print(\"Not Anagram\")"
   ]
  },
  {
   "cell_type": "markdown",
   "id": "25dd7628",
   "metadata": {},
   "source": [
    "## Decimal to binary"
   ]
  },
  {
   "cell_type": "code",
   "execution_count": 35,
   "id": "398db26b",
   "metadata": {},
   "outputs": [
    {
     "name": "stdout",
     "output_type": "stream",
     "text": [
      "1010\n"
     ]
    }
   ],
   "source": [
    "num = 10\n",
    "print(f\"{num:b}\")"
   ]
  },
  {
   "cell_type": "markdown",
   "id": "38bd6620",
   "metadata": {},
   "source": [
    "## Binary to decimal"
   ]
  },
  {
   "cell_type": "code",
   "execution_count": 40,
   "id": "ac98ed58",
   "metadata": {},
   "outputs": [
    {
     "name": "stdout",
     "output_type": "stream",
     "text": [
      "10\n"
     ]
    }
   ],
   "source": [
    "binary = \"1010\"\n",
    "decimal = int(binary, 2)\n",
    "print(decimal)"
   ]
  },
  {
   "cell_type": "markdown",
   "id": "25e4972f",
   "metadata": {},
   "source": [
    "## LCM (Least Common Multiple)"
   ]
  },
  {
   "cell_type": "code",
   "execution_count": 43,
   "id": "8c95c422",
   "metadata": {},
   "outputs": [
    {
     "name": "stdout",
     "output_type": "stream",
     "text": [
      "LCM: 60\n"
     ]
    }
   ],
   "source": [
    "import math\n",
    "\n",
    "a = 12\n",
    "b = 15\n",
    "\n",
    "lcm = (a * b) // math.gcd(a, b)\n",
    "print(\"LCM:\", lcm)"
   ]
  },
  {
   "cell_type": "markdown",
   "id": "f466f0d8",
   "metadata": {},
   "source": [
    "## Armstrong check"
   ]
  },
  {
   "cell_type": "code",
   "execution_count": 44,
   "id": "daaec3ad",
   "metadata": {},
   "outputs": [
    {
     "name": "stdout",
     "output_type": "stream",
     "text": [
      "Armstrong\n"
     ]
    }
   ],
   "source": [
    "n = 153\n",
    "sum_digits = 0\n",
    "\n",
    "for digit in str(n):\n",
    "    sum_digits += int(digit) ** 3\n",
    "\n",
    "if sum_digits == n:\n",
    "    print(\"Armstrong\")\n",
    "else:\n",
    "    print(\"Not Armstrong\")"
   ]
  },
  {
   "cell_type": "markdown",
   "id": "5bd7aab0",
   "metadata": {},
   "source": [
    "## Swap variables"
   ]
  },
  {
   "cell_type": "code",
   "execution_count": 45,
   "id": "a9ab9d21",
   "metadata": {},
   "outputs": [
    {
     "name": "stdout",
     "output_type": "stream",
     "text": [
      "a = 10 b = 5\n"
     ]
    }
   ],
   "source": [
    "a = 5\n",
    "b = 10\n",
    "\n",
    "a, b = b, a\n",
    "print(\"a =\", a, \"b =\", b)"
   ]
  },
  {
   "cell_type": "markdown",
   "id": "a947388f",
   "metadata": {},
   "source": [
    "## Title case"
   ]
  },
  {
   "cell_type": "code",
   "execution_count": 46,
   "id": "eb94b90f",
   "metadata": {},
   "outputs": [
    {
     "name": "stdout",
     "output_type": "stream",
     "text": [
      "Python Is Fun\n"
     ]
    }
   ],
   "source": [
    "sentence = \"python is fun\"\n",
    "print(sentence.title())"
   ]
  },
  {
   "cell_type": "markdown",
   "id": "00777df9",
   "metadata": {},
   "source": [
    "## Substring count"
   ]
  },
  {
   "cell_type": "code",
   "execution_count": 47,
   "id": "d207c047",
   "metadata": {},
   "outputs": [
    {
     "name": "stdout",
     "output_type": "stream",
     "text": [
      "3\n"
     ]
    }
   ],
   "source": [
    "text = \"abababa\"\n",
    "pattern = \"aba\"\n",
    "count = 0\n",
    "\n",
    "for i in range(len(text) - len(pattern) + 1):\n",
    "    if text[i:i+len(pattern)] == pattern:\n",
    "        count += 1\n",
    "\n",
    "print(count)"
   ]
  },
  {
   "cell_type": "markdown",
   "id": "7caf555a",
   "metadata": {},
   "source": [
    "## Swap Pair"
   ]
  },
  {
   "cell_type": "code",
   "execution_count": 48,
   "id": "be025abe",
   "metadata": {},
   "outputs": [
    {
     "name": "stdout",
     "output_type": "stream",
     "text": [
      "a = 10 b = 5\n"
     ]
    }
   ],
   "source": [
    "a = 5\n",
    "b = 10\n",
    "\n",
    "a, b = b, a\n",
    "print(\"a =\", a, \"b =\", b)"
   ]
  },
  {
   "cell_type": "markdown",
   "id": "7a173212",
   "metadata": {},
   "source": [
    "## Union"
   ]
  },
  {
   "cell_type": "code",
   "execution_count": 49,
   "id": "7d41380b",
   "metadata": {},
   "outputs": [
    {
     "name": "stdout",
     "output_type": "stream",
     "text": [
      "[1, 2, 3, 4, 5, 6]\n"
     ]
    }
   ],
   "source": [
    "list1 = [1, 2, 3, 4]\n",
    "list2 = [3, 4, 5, 6]\n",
    "\n",
    "union = list(set(list1) | set(list2))\n",
    "print(union)"
   ]
  },
  {
   "cell_type": "markdown",
   "id": "0aa05f1b",
   "metadata": {},
   "source": [
    "## Intersection"
   ]
  },
  {
   "cell_type": "code",
   "execution_count": 50,
   "id": "cb67b300",
   "metadata": {},
   "outputs": [
    {
     "name": "stdout",
     "output_type": "stream",
     "text": [
      "[3, 4]\n"
     ]
    }
   ],
   "source": [
    "list1 = [1, 2, 3, 4]\n",
    "list2 = [3, 4, 5, 6]\n",
    "\n",
    "intersection = list(set(list1) & set(list2))\n",
    "print(intersection)\n"
   ]
  },
  {
   "cell_type": "markdown",
   "id": "528283b1",
   "metadata": {},
   "source": [
    "## Merge sorted list"
   ]
  },
  {
   "cell_type": "code",
   "execution_count": 51,
   "id": "e3fa5b91",
   "metadata": {},
   "outputs": [
    {
     "name": "stdout",
     "output_type": "stream",
     "text": [
      "[1, 2, 3, 4, 5, 6]\n"
     ]
    }
   ],
   "source": [
    "list1 = [1, 3, 5]\n",
    "list2 = [2, 4, 6]\n",
    "\n",
    "merged = list1 + list2\n",
    "merged.sort()\n",
    "print(merged)"
   ]
  },
  {
   "cell_type": "markdown",
   "id": "ef0b6bea",
   "metadata": {},
   "source": [
    "## Sort list"
   ]
  },
  {
   "cell_type": "code",
   "execution_count": 52,
   "id": "dd007e34",
   "metadata": {},
   "outputs": [
    {
     "name": "stdout",
     "output_type": "stream",
     "text": [
      "[1, 2, 5, 5, 6, 9]\n"
     ]
    }
   ],
   "source": [
    "lst = [5, 2, 9, 1, 5, 6]\n",
    "lst.sort()\n",
    "print(lst)"
   ]
  },
  {
   "cell_type": "markdown",
   "id": "7e82d5c3",
   "metadata": {},
   "source": [
    "## Max and Min"
   ]
  },
  {
   "cell_type": "code",
   "execution_count": 53,
   "id": "39f1781c",
   "metadata": {},
   "outputs": [
    {
     "name": "stdout",
     "output_type": "stream",
     "text": [
      "Max: 9\n",
      "Min: 1\n"
     ]
    }
   ],
   "source": [
    "lst = [5, 2, 9, 1, 5, 6]\n",
    "print(\"Max:\", max(lst))\n",
    "print(\"Min:\", min(lst))"
   ]
  },
  {
   "cell_type": "markdown",
   "id": "e140f2bb",
   "metadata": {},
   "source": [
    "## Remove Duplicate"
   ]
  },
  {
   "cell_type": "code",
   "execution_count": 54,
   "id": "1d0ba508",
   "metadata": {},
   "outputs": [
    {
     "name": "stdout",
     "output_type": "stream",
     "text": [
      "[1, 2, 3, 4, 5]\n"
     ]
    }
   ],
   "source": [
    "lst = [1, 2, 2, 3, 4, 4, 5]\n",
    "unique = list(set(lst))\n",
    "print(unique)"
   ]
  },
  {
   "cell_type": "markdown",
   "id": "763002a4",
   "metadata": {},
   "source": [
    "## Unique list elements"
   ]
  },
  {
   "cell_type": "code",
   "execution_count": 55,
   "id": "6530cf95",
   "metadata": {},
   "outputs": [
    {
     "name": "stdout",
     "output_type": "stream",
     "text": [
      "[1, 2, 3, 4, 5]\n"
     ]
    }
   ],
   "source": [
    "lst = [1, 2, 2, 3, 4, 4, 5]\n",
    "seen = set()\n",
    "unique = []\n",
    "for x in lst:\n",
    "    if x not in seen:\n",
    "        unique.append(x)\n",
    "        seen.add(x)\n",
    "print(unique)"
   ]
  }
 ],
 "metadata": {
  "kernelspec": {
   "display_name": "Python 3 (ipykernel)",
   "language": "python",
   "name": "python3"
  },
  "language_info": {
   "codemirror_mode": {
    "name": "ipython",
    "version": 3
   },
   "file_extension": ".py",
   "mimetype": "text/x-python",
   "name": "python",
   "nbconvert_exporter": "python",
   "pygments_lexer": "ipython3",
   "version": "3.11.5"
  }
 },
 "nbformat": 4,
 "nbformat_minor": 5
}
