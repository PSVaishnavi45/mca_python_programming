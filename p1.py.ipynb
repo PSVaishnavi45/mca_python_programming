{
 "cells": [
  {
   "cell_type": "code",
   "execution_count": 1,
   "id": "ffd1c206",
   "metadata": {},
   "outputs": [],
   "source": [
    "from turtle import *\n",
    "speed('slowest')\n",
    "pencolor('red')\n",
    "pensize(3)\n",
    "\n",
    "side=6\n",
    "for i in range(side):\n",
    "    fd(200)\n",
    "    lt(360/side)\n",
    "    \n",
    "hideturtle()\n",
    "mainloop()"
   ]
  },
  {
   "cell_type": "code",
   "execution_count": 5,
   "id": "ac31e6e3",
   "metadata": {},
   "outputs": [],
   "source": [
    "from turtle import *\n",
    "speed('fast')\n",
    "pencolor('red')\n",
    "pensize(3)\n",
    "\n",
    "side=6\n",
    "for i in range(side):\n",
    "    for i in range(side):\n",
    "        fd(100)\n",
    "        lt(360/side)\n",
    "    fd(200)\n",
    "    lt(360/side)\n",
    "    \n",
    "hideturtle()\n",
    "mainloop()"
   ]
  },
  {
   "cell_type": "code",
   "execution_count": null,
   "id": "913008c0",
   "metadata": {},
   "outputs": [],
   "source": []
  },
  {
   "cell_type": "code",
   "execution_count": null,
   "id": "23b92258",
   "metadata": {},
   "outputs": [],
   "source": []
  }
 ],
 "metadata": {
  "kernelspec": {
   "display_name": "Python 3 (ipykernel)",
   "language": "python",
   "name": "python3"
  },
  "language_info": {
   "codemirror_mode": {
    "name": "ipython",
    "version": 3
   },
   "file_extension": ".py",
   "mimetype": "text/x-python",
   "name": "python",
   "nbconvert_exporter": "python",
   "pygments_lexer": "ipython3",
   "version": "3.11.5"
  }
 },
 "nbformat": 4,
 "nbformat_minor": 5
}
