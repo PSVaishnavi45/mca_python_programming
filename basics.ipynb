{
 "cells": [
  {
   "cell_type": "code",
   "execution_count": 1,
   "id": "a6968209",
   "metadata": {},
   "outputs": [
    {
     "name": "stdout",
     "output_type": "stream",
     "text": [
      "vaishu\n"
     ]
    }
   ],
   "source": [
    "print(\"vaishu\")"
   ]
  },
  {
   "cell_type": "markdown",
   "id": "7b8f5472",
   "metadata": {},
   "source": [
    "handling multiple conditions using if elif"
   ]
  },
  {
   "cell_type": "code",
   "execution_count": null,
   "id": "47a97bf6",
   "metadata": {},
   "outputs": [
    {
     "name": "stdout",
     "output_type": "stream",
     "text": [
      "what is the capital of india?\n",
      "you are very correct\n"
     ]
    }
   ],
   "source": [
    "print(\"what is the capital of india?\")\n",
    "answer=input(\"answer\")\n",
    "if answer==\"delhi\":\n",
    "    print(\"your are correct\")\n",
    "if answer==\"new delhi\":\n",
    "    print(\"you are very correct\")\n",
    "if answer==\"i dont know\":\n",
    "    print(\"u must be sleeping under a rock\")\n",
    "if answer==\"shimla\":\n",
    "    print(\"you must be from britaian\")\n"
   ]
  },
  {
   "cell_type": "code",
   "execution_count": 8,
   "id": "ba312fe8",
   "metadata": {},
   "outputs": [
    {
     "name": "stdout",
     "output_type": "stream",
     "text": [
      "your grade A\n",
      "your grade B\n",
      "your grade C\n",
      "your grade D\n"
     ]
    }
   ],
   "source": [
    "marks=int(input(\"enter your total marks in 10th:\"))\n",
    "if marks>90 and marks<=100:\n",
    "    print(\"your grade A\")\n",
    "if marks>75:\n",
    "    print(\"your grade B\")\n",
    "if marks>60:\n",
    "    print(\"your grade C\")\n",
    "if marks>40:\n",
    "    print(\"your grade D\")\n",
    "if marks<40:\n",
    "    print(\"you failed ☠️☠️☠️\")"
   ]
  },
  {
   "cell_type": "markdown",
   "id": "df251c85",
   "metadata": {},
   "source": [
    "the above program visibily correct but logically not"
   ]
  },
  {
   "cell_type": "code",
   "execution_count": 9,
   "id": "1c7c2c19",
   "metadata": {},
   "outputs": [
    {
     "name": "stdout",
     "output_type": "stream",
     "text": [
      "your grade C\n"
     ]
    }
   ],
   "source": [
    "marks=int(input(\"enter your total marks in 10th:\"))\n",
    "if marks>90 and marks<=100:\n",
    "    print(\"your grade A\")\n",
    "elif marks>75:\n",
    "    print(\"your grade B\")\n",
    "elif marks>60:\n",
    "    print(\"your grade C\")\n",
    "elif marks>40:\n",
    "    print(\"your grade D\")\n",
    "elif marks<40:\n",
    "    print(\"you failed ☠️☠️☠️\")"
   ]
  },
  {
   "cell_type": "code",
   "execution_count": 10,
   "id": "e2f7c7bb",
   "metadata": {},
   "outputs": [
    {
     "name": "stdout",
     "output_type": "stream",
     "text": [
      "your grade D\n"
     ]
    }
   ],
   "source": [
    "marks=int(input(\"enter your total marks in 10th:\"))\n",
    "if marks>90 and marks<=100:\n",
    "    print(\"your grade A\")\n",
    "if marks>75 and marks<=90:\n",
    "    print(\"your grade B\")\n",
    "if marks>60 and marks<=75:\n",
    "    print(\"your grade C\")\n",
    "if marks>40 and marks<=60:\n",
    "    print(\"your grade D\")\n",
    "if marks<40:\n",
    "    print(\"you failed ☠️☠️☠️\")"
   ]
  },
  {
   "cell_type": "code",
   "execution_count": 14,
   "id": "f4847a71",
   "metadata": {},
   "outputs": [
    {
     "name": "stdout",
     "output_type": "stream",
     "text": [
      "frds salary=>80000\n",
      "frds total=>64000.0\n"
     ]
    }
   ],
   "source": [
    "salary=int(input(\"enter your frds salary:\"))\n",
    "if salary>10000:\n",
    "    total=salary-salary*.20\n",
    "elif salary>80000:\n",
    "    total=salary-salary*.1\n",
    "elif salary>50000:\n",
    "    total=salary-salary*.05\n",
    "else:\n",
    "    total=salary+10000\n",
    "print(f'frds salary=>{salary}')\n",
    "print(f'frds total=>{total}')"
   ]
  },
  {
   "cell_type": "code",
   "execution_count": null,
   "id": "a217363a",
   "metadata": {},
   "outputs": [],
   "source": [
    "#match case"
   ]
  },
  {
   "cell_type": "code",
   "execution_count": null,
   "id": "5893d680",
   "metadata": {},
   "outputs": [],
   "source": []
  },
  {
   "cell_type": "code",
   "execution_count": 17,
   "id": "4c4e96e6",
   "metadata": {},
   "outputs": [
    {
     "name": "stdout",
     "output_type": "stream",
     "text": [
      "today is friday\n"
     ]
    }
   ],
   "source": [
    "day=input(\"what is the day toady\")\n",
    "match day:\n",
    "    case \"monday\":print(\"today is monday!booringgg\")\n",
    "    case \"sunday\":print(\"today is sunday\")\n",
    "    case \"friday\":print(\"today is friday\")\n",
    "    case \"saturday\":print(\"today is saturday\")\n",
    "    case default:print(\"its not an option\")"
   ]
  },
  {
   "cell_type": "code",
   "execution_count": 19,
   "id": "5e6dc518",
   "metadata": {},
   "outputs": [
    {
     "name": "stdout",
     "output_type": "stream",
     "text": [
      "tell me some movies\n",
      "the conjuring,the nun,evil dead\n"
     ]
    }
   ],
   "source": [
    "print(\"tell me some movies\")\n",
    "genre=input(\"what genre do you like\")\n",
    "match genre:\n",
    "    case \"action\":\n",
    "        print(\"avengers,deadpool,fast&furious\")\n",
    "    case \"horror\":\n",
    "        print(\"the conjuring,the nun,evil dead\")\n",
    "    case \"fantacy\":\n",
    "        print(\"Lord of the ring\")\n",
    "    case \"comedy\"|\"sci-fi\":\n",
    "        print(\"adam project,nimona,interstellar\")\n",
    "    case default:\n",
    "        print(\"you should not watch any movies\")"
   ]
  },
  {
   "cell_type": "markdown",
   "id": "d038859c",
   "metadata": {},
   "source": [
    "#nested if \n"
   ]
  },
  {
   "cell_type": "code",
   "execution_count": 21,
   "id": "09217f81",
   "metadata": {},
   "outputs": [
    {
     "name": "stdout",
     "output_type": "stream",
     "text": [
      "you escaped and find a lion\n",
      "you failed miserably and died\n"
     ]
    }
   ],
   "source": [
    "ans=input(\"you see a bear,would like to fight it y/n\")\n",
    "if ans ==\"n\":\n",
    "    print(\"you escaped and find a lion\")\n",
    "    ans2=input(\"you want to fight it y/n\")\n",
    "    if ans2==\"n\":\n",
    "        print(\"you escaped and find a car\")\n",
    "        ans3=input(\"you want to drive it y/n\")\n",
    "        if ans3==\"y\":\n",
    "            print(\"you escaped the area\")\n",
    "        else:\n",
    "            print(\"the bear& lion catch and kill you\")\n",
    "    else:\n",
    "        print(\"you failed miserably and died\")\n",
    "else:\n",
    "    print(\"the bear destroyed you\")"
   ]
  },
  {
   "cell_type": "code",
   "execution_count": null,
   "id": "7ec2cfe7",
   "metadata": {},
   "outputs": [],
   "source": []
  }
 ],
 "metadata": {
  "kernelspec": {
   "display_name": "Python 3",
   "language": "python",
   "name": "python3"
  },
  "language_info": {
   "codemirror_mode": {
    "name": "ipython",
    "version": 3
   },
   "file_extension": ".py",
   "mimetype": "text/x-python",
   "name": "python",
   "nbconvert_exporter": "python",
   "pygments_lexer": "ipython3",
   "version": "3.13.6"
  }
 },
 "nbformat": 4,
 "nbformat_minor": 5
}
