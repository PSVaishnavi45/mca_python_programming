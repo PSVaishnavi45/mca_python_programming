{
 "cells": [
  {
   "cell_type": "code",
   "execution_count": 5,
   "id": "8c7cc987",
   "metadata": {},
   "outputs": [
    {
     "name": "stdout",
     "output_type": "stream",
     "text": [
      "enter the value:4\n",
      "enter the value:5\n",
      "\n",
      "Before swapping\n",
      "a= 4\n",
      "b= 5\n",
      "\n",
      "After swapping\n",
      "a= 5\n",
      "b= 4\n"
     ]
    }
   ],
   "source": [
    "#1. Swapping Variables\n",
    "a=int(input(\"enter the value:\"))\n",
    "b=int(input(\"enter the value:\"))\n",
    "print(\"\\nBefore swapping\")\n",
    "print(\"a=\",a)\n",
    "print(\"b=\",b)\n",
    "temp=a\n",
    "a=b\n",
    "b=temp\n",
    "print(\"\\nAfter swapping\")\n",
    "print(\"a=\",a)\n",
    "print(\"b=\",b)"
   ]
  },
  {
   "cell_type": "code",
   "execution_count": 6,
   "id": "d7c8b9a3",
   "metadata": {},
   "outputs": [
    {
     "name": "stdout",
     "output_type": "stream",
     "text": [
      "enter the first value:4\n",
      "enter the operator(+,-,*,/):*\n",
      "enter the second value:6\n",
      "result: 24\n"
     ]
    }
   ],
   "source": [
    "#2. Simple Calculator (No Conditions)\n",
    "num1=input(\"enter the first value:\")\n",
    "operator=input(\"enter the operator(+,-,*,/):\")\n",
    "num2=input(\"enter the second value:\")\n",
    "\n",
    "result=eval(num1+operator+num2)\n",
    "print(\"result:\",result)"
   ]
  },
  {
   "cell_type": "code",
   "execution_count": 7,
   "id": "aa61705b",
   "metadata": {},
   "outputs": [
    {
     "name": "stdout",
     "output_type": "stream",
     "text": [
      "enter the name:vaishu\n",
      "enter the age:21\n",
      "enter the value:5.5\n",
      "Name:vaishu,age:21years,height:5.5cm\n"
     ]
    }
   ],
   "source": [
    "#5. Custom Data Type Formatter\n",
    "name=str(input(\"enter the name:\"))\n",
    "age=int(input(\"enter the age:\"))\n",
    "height=float(input(\"enter the value:\"))\n",
    "print(f\"Name:{name},age:{age}years,height:{height}cm\")"
   ]
  },
  {
   "cell_type": "code",
   "execution_count": 9,
   "id": "85f0c8ea",
   "metadata": {},
   "outputs": [
    {
     "name": "stdout",
     "output_type": "stream",
     "text": [
      "enter a:5.5\n",
      "Enter b: 4.4\n",
      "Enter c: 3.3\n",
      "Root 1 = (-0.39999999999999997+0.6633249580710799j)\n",
      "Root 2 = (-0.40000000000000013-0.6633249580710799j)\n"
     ]
    }
   ],
   "source": [
    "#4. Quadratic Equation Roots (No Conditions)\n",
    "a=float(input(\"enter a:\"))\n",
    "b=float(input(\"Enter b: \"))\n",
    "c=float(input(\"Enter c: \"))\n",
    "D=b**2-4*a*c\n",
    "D=complex(D,0)\n",
    "sqrt_D=D**0.5\n",
    "root1=(-b + sqrt_D) / (2*a)\n",
    "root2=(-b - sqrt_D) / (2*a)\n",
    "print(\"Root 1 =\", root1)\n",
    "print(\"Root 2 =\", root2)"
   ]
  },
  {
   "cell_type": "code",
   "execution_count": 10,
   "id": "4ea8a08d",
   "metadata": {},
   "outputs": [
    {
     "name": "stdout",
     "output_type": "stream",
     "text": [
      "Enter a number: 5\n",
      "Integer value: 5, Type: <class 'int'>\n",
      "Float value: 5.0, Type: <class 'float'>\n"
     ]
    }
   ],
   "source": [
    "#3. Type Conversion\n",
    "num_str = input(\"Enter a number: \")\n",
    "num_int = int(num_str)\n",
    "num_float = float(num_str)\n",
    "print(f\"Integer value: {num_int}, Type: {type(num_int)}\")\n",
    "print(f\"Float value: {num_float}, Type: {type(num_float)}\")\n"
   ]
  },
  {
   "cell_type": "code",
   "execution_count": 4,
   "id": "7af689db",
   "metadata": {},
   "outputs": [
    {
     "name": "stdout",
     "output_type": "stream",
     "text": [
      "Enter first number: 3.4\n",
      "Enter second number: 5.5\n",
      "Enter third number: 6.4\n",
      "Result: -27.12\n"
     ]
    }
   ],
   "source": [
    "#6. Complex Expression Evaluator\n",
    "num1 = float(input(\"Enter first number: \"))\n",
    "num2 = float(input(\"Enter second number: \"))\n",
    "num3 = float(input(\"Enter third number: \"))\n",
    "result = ((num1 + num2) * num3) / (num1 - num2)\n",
    "print(\"Result:\", round(result, 2))\n"
   ]
  },
  {
   "cell_type": "code",
   "execution_count": 11,
   "id": "ee61ee42",
   "metadata": {},
   "outputs": [
    {
     "name": "stdout",
     "output_type": "stream",
     "text": [
      "enter first number:4\n",
      "enter second number5\n",
      "the sum of num1 and num2 is: 9\n"
     ]
    }
   ],
   "source": [
    "#7. Sum of Two Numbers\n",
    "num1=int(input(\"enter first number:\"))\n",
    "num2=int(input(\"enter second number\"))\n",
    "sum=num1+num2\n",
    "print(\"the sum of num1 and num2 is:\",sum)"
   ]
  },
  {
   "cell_type": "code",
   "execution_count": 16,
   "id": "87b670ca",
   "metadata": {},
   "outputs": [
    {
     "name": "stdout",
     "output_type": "stream",
     "text": [
      "enter the namevaishu\n",
      "uppercase name is VAISHU\n"
     ]
    }
   ],
   "source": [
    "#8. Uppercase String\n",
    "name=str(input(\"enter the name\"))\n",
    "uppercase=name.upper()\n",
    "print(\"uppercase name is\",uppercase)"
   ]
  },
  {
   "cell_type": "code",
   "execution_count": 12,
   "id": "9c26a19d",
   "metadata": {},
   "outputs": [
    {
     "name": "stdout",
     "output_type": "stream",
     "text": [
      "enter the value 2\n",
      "4\n"
     ]
    }
   ],
   "source": [
    "#9. Square of a Number\n",
    "num=int(input(\"enter the value \"))\n",
    "square=num**2\n",
    "print(square)\n"
   ]
  },
  {
   "cell_type": "code",
   "execution_count": 13,
   "id": "2db5d52f",
   "metadata": {},
   "outputs": [
    {
     "name": "stdout",
     "output_type": "stream",
     "text": [
      "srivaishnavi\n"
     ]
    }
   ],
   "source": [
    "#11. String Concatenation\n",
    "str1=\"sri\"\n",
    "str2=\"vaishnavi\"\n",
    "concatenation=str1+str2\n",
    "print(concatenation)"
   ]
  },
  {
   "cell_type": "code",
   "execution_count": 14,
   "id": "54ce77e6",
   "metadata": {},
   "outputs": [
    {
     "name": "stdout",
     "output_type": "stream",
     "text": [
      "Enter a decimal number: 5.5\n",
      "Float value: 5.5, Type: <class 'float'>\n",
      "Integer value: 5, Type: <class 'int'>\n"
     ]
    }
   ],
   "source": [
    "#12. Float to Integer Conversion\n",
    "num_float = float(input(\"Enter a decimal number: \"))\n",
    "num_int = int(num_float)\n",
    "print(f\"Float value: {num_float}, Type: {type(num_float)}\")\n",
    "print(f\"Integer value: {num_int}, Type: {type(num_int)}\")\n"
   ]
  },
  {
   "cell_type": "code",
   "execution_count": 15,
   "id": "a6409784",
   "metadata": {},
   "outputs": [
    {
     "name": "stdout",
     "output_type": "stream",
     "text": [
      "enter your age 21\n",
      "your are 21 years old \n"
     ]
    }
   ],
   "source": [
    "#13. Age Display\n",
    "age=int(input(\"enter your age \"))\n",
    "print(f\"your are {age} years old \")"
   ]
  },
  {
   "cell_type": "code",
   "execution_count": 17,
   "id": "b7b5c47d",
   "metadata": {},
   "outputs": [
    {
     "name": "stdout",
     "output_type": "stream",
     "text": [
      "enter first value4\n",
      "enter second value4\n",
      "16\n"
     ]
    }
   ],
   "source": [
    "#14. Product of Two Numbers\n",
    "num1=int(input(\"enter first value\"))\n",
    "num2=int(input(\"enter second value\"))\n",
    "result=num1*num2\n",
    "print(result)"
   ]
  },
  {
   "cell_type": "code",
   "execution_count": 20,
   "id": "679ca8c8",
   "metadata": {},
   "outputs": [
    {
     "name": "stdout",
     "output_type": "stream",
     "text": [
      "9\n"
     ]
    }
   ],
   "source": [
    "#15. String Length\n",
    "string=\"vaishnvai\"\n",
    "result=len(string)\n",
    "print(result)"
   ]
  },
  {
   "cell_type": "code",
   "execution_count": 22,
   "id": "4ab89ed3",
   "metadata": {},
   "outputs": [
    {
     "name": "stdout",
     "output_type": "stream",
     "text": [
      "enter first value2\n",
      "enter second value2\n",
      "enter third value2\n",
      "average: 2.0\n"
     ]
    }
   ],
   "source": [
    "#16. Average of Three Numbers\n",
    "num1=int(input(\"enter first value\"))\n",
    "num2=int(input(\"enter second value\"))\n",
    "num3=int(input(\"enter third value\"))\n",
    "average=(num1+num2+num3)/3\n",
    "print(\"average:\",average)\n"
   ]
  },
  {
   "cell_type": "code",
   "execution_count": 23,
   "id": "414a649d",
   "metadata": {},
   "outputs": [
    {
     "name": "stdout",
     "output_type": "stream",
     "text": [
      "Enter a number: -5\n",
      "Absolute value: 5\n"
     ]
    }
   ],
   "source": [
    "#17. Absolute Value\n",
    "num = int(input(\"Enter a number: \"))\n",
    "print(\"Absolute value:\", abs(num))"
   ]
  },
  {
   "cell_type": "code",
   "execution_count": 24,
   "id": "49eee28a",
   "metadata": {},
   "outputs": [
    {
     "name": "stdout",
     "output_type": "stream",
     "text": [
      "enter first value3\n",
      "enter second value2\n",
      "difference of two numbers is=1\n"
     ]
    }
   ],
   "source": [
    "#18. Difference of Two Numbers\n",
    "num1=int(input(\"enter first value\"))\n",
    "num2=int(input(\"enter second value\"))\n",
    "diff=num1-num2\n",
    "print(f\"difference of two numbers is={diff}\")"
   ]
  },
  {
   "cell_type": "code",
   "execution_count": 25,
   "id": "47b5b1dc",
   "metadata": {},
   "outputs": [
    {
     "name": "stdout",
     "output_type": "stream",
     "text": [
      "the reversed string is ivanhsiav\n"
     ]
    }
   ],
   "source": [
    "#19. String Reversal\n",
    "string=\"vaishnavi\"\n",
    "reverse=string[::-1]\n",
    "print(f\"the reversed string is {reverse}\")"
   ]
  },
  {
   "cell_type": "code",
   "execution_count": 28,
   "id": "a08f92a8",
   "metadata": {},
   "outputs": [
    {
     "name": "stdout",
     "output_type": "stream",
     "text": [
      "Enter height in centimeters: 160\n",
      "Height in meters:1.6\n"
     ]
    }
   ],
   "source": [
    "#20. Height Conversion\n",
    "height_cm = int(input(\"Enter height in centimeters: \"))\n",
    "height_m = height_cm / 100\n",
    "print(f\"Height in meters:{height_m}\")"
   ]
  },
  {
   "cell_type": "code",
   "execution_count": 30,
   "id": "218f4c72",
   "metadata": {},
   "outputs": [
    {
     "name": "stdout",
     "output_type": "stream",
     "text": [
      "enter first value4\n",
      "enter second value2\n",
      "2.0\n"
     ]
    }
   ],
   "source": [
    "#21. Quotient of Two Numbers\n",
    "num1=int(input(\"enter first value\"))\n",
    "num2=int(input(\"enter second value\"))\n",
    "result=num1/num2\n",
    "print(result)"
   ]
  },
  {
   "cell_type": "code",
   "execution_count": 31,
   "id": "90d384cd",
   "metadata": {},
   "outputs": [
    {
     "name": "stdout",
     "output_type": "stream",
     "text": [
      "enter the namevaishu\n",
      "\"vaishu\"\n"
     ]
    }
   ],
   "source": [
    "#22. Quoted Name\n",
    "name=input(\"enter the name\")\n",
    "print(f'\"{name}\"')"
   ]
  },
  {
   "cell_type": "code",
   "execution_count": 32,
   "id": "33f9d67e",
   "metadata": {},
   "outputs": [
    {
     "name": "stdout",
     "output_type": "stream",
     "text": [
      "Enter a number: 3.4567\n",
      "Rounded value:3.46\n"
     ]
    }
   ],
   "source": [
    "#23. Formatted Number\n",
    "num = float(input(\"Enter a number: \"))\n",
    "rounded_num = round(num, 2)\n",
    "print(f\"Rounded value:{rounded_num}\")"
   ]
  },
  {
   "cell_type": "code",
   "execution_count": 33,
   "id": "8125207b",
   "metadata": {},
   "outputs": [
    {
     "name": "stdout",
     "output_type": "stream",
     "text": [
      "enter first stringsri\n",
      "enter second stringvaishnavi\n",
      "sri vaishnavi\n"
     ]
    }
   ],
   "source": [
    "#24. String Separation\n",
    "str1=input(\"enter first string\")\n",
    "str2=input(\"enter second string\")\n",
    "print(f\"{str1} {str2}\")"
   ]
  },
  {
   "cell_type": "code",
   "execution_count": 37,
   "id": "17728e9c",
   "metadata": {},
   "outputs": [
    {
     "name": "stdout",
     "output_type": "stream",
     "text": [
      "enter any value4\n",
      "As integer type: <class 'int'>\n"
     ]
    }
   ],
   "source": [
    "#25. Type of Input\n",
    "num=input(\"enter any value\")\n",
    "num_int = int(num)\n",
    "print(\"As integer type:\", type(num_int))"
   ]
  },
  {
   "cell_type": "code",
   "execution_count": 38,
   "id": "1c048574",
   "metadata": {},
   "outputs": [
    {
     "name": "stdout",
     "output_type": "stream",
     "text": [
      "Enter first number: 3\n",
      "Enter second number: 3\n",
      "Enter third number: 4\n",
      "Sum of three values:10\n",
      "Product of three values:36\n"
     ]
    }
   ],
   "source": [
    "#26. Sum and Product\n",
    "num1 = int(input(\"Enter first number: \"))\n",
    "num2 = int(input(\"Enter second number: \"))\n",
    "num3 = int(input(\"Enter third number: \"))\n",
    "sum_result = num1 + num2 + num3\n",
    "product_result = num1 * num2 * num3\n",
    "print(f\"Sum of three values:{sum_result}\")\n",
    "print(f\"Product of three values:{product_result}\")"
   ]
  },
  {
   "cell_type": "code",
   "execution_count": null,
   "id": "d705f3a2",
   "metadata": {},
   "outputs": [],
   "source": []
  }
 ],
 "metadata": {
  "kernelspec": {
   "display_name": "Python 3 (ipykernel)",
   "language": "python",
   "name": "python3"
  },
  "language_info": {
   "codemirror_mode": {
    "name": "ipython",
    "version": 3
   },
   "file_extension": ".py",
   "mimetype": "text/x-python",
   "name": "python",
   "nbconvert_exporter": "python",
   "pygments_lexer": "ipython3",
   "version": "3.11.5"
  }
 },
 "nbformat": 4,
 "nbformat_minor": 5
}
