{
 "cells": [
  {
   "cell_type": "code",
   "execution_count": 1,
   "id": "58776afc",
   "metadata": {},
   "outputs": [
    {
     "name": "stdout",
     "output_type": "stream",
     "text": [
      "enter data value10\n",
      "value=>10\n"
     ]
    }
   ],
   "source": [
    "data=int(input(\"enter data value\"))\n",
    "print(f\"value=>{data}\")"
   ]
  },
  {
   "cell_type": "code",
   "execution_count": 2,
   "id": "f95d580d",
   "metadata": {},
   "outputs": [
    {
     "name": "stdout",
     "output_type": "stream",
     "text": [
      "you see a apple seller\n",
      "do you like appleyes\n",
      "purchase 2kg of apple\n"
     ]
    }
   ],
   "source": [
    "print(\"you see a apple seller\")\n",
    "q=input(\"do you like apple\")\n",
    "if q== 'yes':\n",
    "    print(\"purchase 2kg of apple\")\n",
    "\n",
    "if q== 'no':\n",
    "    print(\"you dont purchase\")\n"
   ]
  },
  {
   "cell_type": "code",
   "execution_count": null,
   "id": "fef350e4",
   "metadata": {},
   "outputs": [],
   "source": []
  }
 ],
 "metadata": {
  "kernelspec": {
   "display_name": "Python 3 (ipykernel)",
   "language": "python",
   "name": "python3"
  },
  "language_info": {
   "codemirror_mode": {
    "name": "ipython",
    "version": 3
   },
   "file_extension": ".py",
   "mimetype": "text/x-python",
   "name": "python",
   "nbconvert_exporter": "python",
   "pygments_lexer": "ipython3",
   "version": "3.11.5"
  }
 },
 "nbformat": 4,
 "nbformat_minor": 5
}
