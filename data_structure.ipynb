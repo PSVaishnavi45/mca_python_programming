{
 "cells": [
  {
   "cell_type": "code",
   "execution_count": 7,
   "id": "2dc1057d",
   "metadata": {},
   "outputs": [],
   "source": [
    "#data structure\n",
    "#list:is mutable and indexed(numerical position of an element with sequence number)\n",
    "#heterogenous(diff types of data),duplicated allowed\n",
    "#represented by[] and list( )\n",
    "#list is ordered datastructure\n",
    "x=[]# empty list\n",
    "x=list() #empty list\n",
    "y=[1,2,3]#direct initialization"
   ]
  },
  {
   "cell_type": "code",
   "execution_count": 6,
   "id": "9d6277a8",
   "metadata": {},
   "outputs": [
    {
     "name": "stdout",
     "output_type": "stream",
     "text": [
      "['apple', 'banana', 'orange']\n"
     ]
    }
   ],
   "source": [
    "z=[]\n",
    "z.append('apple')\n",
    "z.append('banana')\n",
    "z.append('orange')\n",
    "print(z)"
   ]
  },
  {
   "cell_type": "code",
   "execution_count": 8,
   "id": "91a52b19",
   "metadata": {},
   "outputs": [
    {
     "name": "stdout",
     "output_type": "stream",
     "text": [
      "[1, 2, 3] [4, 5, 6] [1, 2, 3, 4, 5, 6]\n"
     ]
    }
   ],
   "source": [
    "x=[1,2,3]\n",
    "y=[4,5,6]\n",
    "z=x+y\n",
    "print(x,y,z)"
   ]
  },
  {
   "cell_type": "code",
   "execution_count": 9,
   "id": "c87c1eb1",
   "metadata": {},
   "outputs": [
    {
     "name": "stdout",
     "output_type": "stream",
     "text": [
      "[1, 1, 1, 1, 1, 1, 1, 1, 1, 1]\n",
      "[1, 2, 1, 2, 1, 2, 1, 2, 1, 2]\n",
      "[1, 1, 1, 1, 1, 1, 1, 1, 1, 1, 1, 1, 1, 1, 1, 1, 1, 1, 1, 1]\n"
     ]
    }
   ],
   "source": [
    "#list of duplication\n",
    "a=[1]*10\n",
    "print(a)\n",
    "b=[1,2]*5\n",
    "c=a*2\n",
    "print(b)\n",
    "print(c)"
   ]
  },
  {
   "cell_type": "code",
   "execution_count": 10,
   "id": "48157eda",
   "metadata": {},
   "outputs": [
    {
     "name": "stdout",
     "output_type": "stream",
     "text": [
      "[1, 1, 1, 1, 1, 1, 1, 1, 1, 1]\n",
      "1\n",
      "1\n",
      "1\n",
      "1\n",
      "1\n",
      "1\n",
      "1\n",
      "1\n",
      "1\n",
      "1\n",
      "1\n",
      "1 1\n"
     ]
    }
   ],
   "source": [
    "print(a)\n",
    "#displaying single item at a time using loop\n",
    "for item in a:\n",
    "    print(item)\n",
    "#single element using index\n",
    "print(a[0])\n",
    "print(a[3],a[5])\n"
   ]
  },
  {
   "cell_type": "code",
   "execution_count": null,
   "id": "d00a6151",
   "metadata": {},
   "outputs": [],
   "source": [
    "students=[\"bhargav\",\"sameer\",\"srikanth\",\"yashwanth\",\"vamsi\",\"ram\",\"ajay\",\"balaji\",\"abhi\",\"yashwanth\",\"ruhi\",\"varsha\",\"sumitra\",\"lahari\",\"jyoshna\",\"meghana\",\"anjali\",\"sirisha\",\"sahithi\",\"geetha\"]"
   ]
  },
  {
   "cell_type": "code",
   "execution_count": 1,
   "id": "169d91de",
   "metadata": {},
   "outputs": [
    {
     "name": "stdout",
     "output_type": "stream",
     "text": [
      "['the way of king']\n",
      "['the way of king', 'the final empire', 'steelheart', 'ligeon']\n"
     ]
    }
   ],
   "source": [
    "books=[]\n",
    "books.append(\"the way of king\")\n",
    "print(books)\n",
    "books.append(\"the final empire\")\n",
    "books.append(\"steelheart\")\n",
    "books.append(\"ligeon\")\n",
    "print(books)"
   ]
  },
  {
   "cell_type": "code",
   "execution_count": 2,
   "id": "e1f5c011",
   "metadata": {},
   "outputs": [
    {
     "ename": "TypeError",
     "evalue": "list.append() takes exactly one argument (2 given)",
     "output_type": "error",
     "traceback": [
      "\u001b[1;31m---------------------------------------------------------------------------\u001b[0m",
      "\u001b[1;31mTypeError\u001b[0m                                 Traceback (most recent call last)",
      "Cell \u001b[1;32mIn[2], line 1\u001b[0m\n\u001b[1;32m----> 1\u001b[0m books\u001b[38;5;241m.\u001b[39mappend(\u001b[38;5;124m\"\u001b[39m\u001b[38;5;124mharry potter\u001b[39m\u001b[38;5;124m\"\u001b[39m,\u001b[38;5;124m\"\u001b[39m\u001b[38;5;124mjungle book\u001b[39m\u001b[38;5;124m\"\u001b[39m)\n",
      "\u001b[1;31mTypeError\u001b[0m: list.append() takes exactly one argument (2 given)"
     ]
    }
   ],
   "source": [
    "books.append(\"harry potter\",\"jungle book\")"
   ]
  },
  {
   "cell_type": "code",
   "execution_count": 6,
   "id": "902f312b",
   "metadata": {},
   "outputs": [
    {
     "name": "stdout",
     "output_type": "stream",
     "text": [
      "['red', 'green', 'blue', 'yellow', 'black']\n"
     ]
    }
   ],
   "source": [
    "colors=['red','green','blue']\n",
    "colors.extend(['yellow','black'])\n",
    "print(colors)"
   ]
  },
  {
   "cell_type": "code",
   "execution_count": 7,
   "id": "6f482b16",
   "metadata": {},
   "outputs": [
    {
     "name": "stdout",
     "output_type": "stream",
     "text": [
      "['red', 'green', 'blue', 'yellow', 'black', 'purple', 'pink', 'yellow']\n"
     ]
    }
   ],
   "source": [
    "colors2=[\"purple\",\"pink\",\"yellow\"]\n",
    "colors.extend(colors2)\n",
    "print(colors)"
   ]
  },
  {
   "cell_type": "code",
   "execution_count": 1,
   "id": "970c9bbe",
   "metadata": {},
   "outputs": [
    {
     "name": "stdout",
     "output_type": "stream",
     "text": [
      "enter movie namespushpa\n",
      "enter movie nameskalki\n",
      "enter movie namesit\n",
      "enter movie namesganga\n",
      "enter movie nameskanchana\n",
      "['pushpa', 'kalki', 'it', 'ganga', 'kanchana']\n"
     ]
    }
   ],
   "source": [
    "movies=[]\n",
    "for i in range(5):\n",
    "    value=input(\"enter movie names\")\n",
    "    movies.append(value)\n",
    "print(movies)"
   ]
  },
  {
   "cell_type": "code",
   "execution_count": 5,
   "id": "87d709f5",
   "metadata": {},
   "outputs": [
    {
     "name": "stdout",
     "output_type": "stream",
     "text": [
      "[1, 2, 5, 10]\n"
     ]
    }
   ],
   "source": [
    "x=[1,5,10]\n",
    "x.insert(1,2)#insert(index,value)\n",
    "print(x)"
   ]
  },
  {
   "cell_type": "code",
   "execution_count": 6,
   "id": "9d84109e",
   "metadata": {},
   "outputs": [
    {
     "name": "stdout",
     "output_type": "stream",
     "text": [
      "[1, 2, 3, 5, 9, 10]\n"
     ]
    }
   ],
   "source": [
    "x=[1,5,10]\n",
    "x.insert(1,2)#insert(index,value)\n",
    "x.insert(2,3)\n",
    "x.insert(4,9)\n",
    "print(x)"
   ]
  },
  {
   "cell_type": "code",
   "execution_count": null,
   "id": "333cec69",
   "metadata": {},
   "outputs": [],
   "source": [
    "#adding elements:\n",
    "-->append()-add one element to the end of the list\n",
    "-->extend()-append multiple items in a list\n",
    "-->insert()-add one element to a specific position\n",
    "#removing elements\n",
    "-->remove()-remove the first occurance of a value\n",
    "-->pop()-remove and return an element from an index\n",
    "-->clear()-remove all the elements from the list\n",
    "#utility methods\n",
    "-->count()\n",
    "-->index()-assigning a number value\n",
    "-->sort()\n",
    "-->reverse()\n",
    "-->copy()\n"
   ]
  },
  {
   "cell_type": "code",
   "execution_count": 3,
   "id": "bd52a230",
   "metadata": {},
   "outputs": [
    {
     "name": "stdout",
     "output_type": "stream",
     "text": [
      "size of book list 9\n"
     ]
    }
   ],
   "source": [
    "books=['maths book','english book','science book','GK book','telugu book','biology book','physics book','do epic shit','wind the truth']\n",
    "print(\"size of book list\",len(books))"
   ]
  },
  {
   "cell_type": "code",
   "execution_count": 4,
   "id": "3f5424c3",
   "metadata": {},
   "outputs": [
    {
     "name": "stdout",
     "output_type": "stream",
     "text": [
      "['maths book', 'english book', 'science book', 'telugu book', 'biology book', 'physics book', 'do epic shit', 'wind the truth']\n"
     ]
    }
   ],
   "source": [
    "books.remove(\"GK book\")\n",
    "print(books)"
   ]
  },
  {
   "cell_type": "code",
   "execution_count": 5,
   "id": "5a27e4b5",
   "metadata": {},
   "outputs": [
    {
     "name": "stdout",
     "output_type": "stream",
     "text": [
      "['maths book', 'science book', 'telugu book', 'biology book', 'physics book', 'do epic shit', 'wind the truth']\n"
     ]
    }
   ],
   "source": [
    "if \"english book\" in books:\n",
    "    books.remove(\"english book\")\n",
    "print(books)"
   ]
  },
  {
   "cell_type": "code",
   "execution_count": 6,
   "id": "2c14bed4",
   "metadata": {},
   "outputs": [
    {
     "name": "stdout",
     "output_type": "stream",
     "text": [
      "size of book 7\n"
     ]
    }
   ],
   "source": [
    "print(\"size of book\",len(books))"
   ]
  },
  {
   "cell_type": "code",
   "execution_count": 7,
   "id": "7a5f00a4",
   "metadata": {},
   "outputs": [
    {
     "data": {
      "text/plain": [
       "'biology book'"
      ]
     },
     "execution_count": 7,
     "metadata": {},
     "output_type": "execute_result"
    }
   ],
   "source": [
    "#pop() without any index will remove the last element\n",
    "books.pop(3)"
   ]
  },
  {
   "cell_type": "code",
   "execution_count": 8,
   "id": "b2113fb2",
   "metadata": {},
   "outputs": [
    {
     "data": {
      "text/plain": [
       "'wind the truth'"
      ]
     },
     "execution_count": 8,
     "metadata": {},
     "output_type": "execute_result"
    }
   ],
   "source": [
    "books.pop()"
   ]
  },
  {
   "cell_type": "code",
   "execution_count": 10,
   "id": "155305dd",
   "metadata": {},
   "outputs": [
    {
     "name": "stdout",
     "output_type": "stream",
     "text": [
      "[]\n"
     ]
    }
   ],
   "source": [
    "books.clear()\n",
    "print(books)"
   ]
  },
  {
   "cell_type": "code",
   "execution_count": 12,
   "id": "9f8c8266",
   "metadata": {},
   "outputs": [
    {
     "name": "stdout",
     "output_type": "stream",
     "text": [
      "size of languages 14\n",
      "['c', 'python', 'c++', 'java', 'kotlin', 'dart', 'Go', 'c#', 'html', 'javascript', 'rust', 'mojo', 'assembly', 'scala']\n"
     ]
    }
   ],
   "source": [
    "languages=['c','python','c++','java','kotlin','dart','Go','c#','html','javascript','rust','mojo','assembly','scala']\n",
    "print(\"size of languages\",len(languages))\n",
    "print(languages)\n",
    "numbers=[12,56,78,34,67,89,45,34,23,45,67,23,47,67]\n",
    "data=[1,'apple',2,'banana',3,'orange']\n"
   ]
  },
  {
   "cell_type": "code",
   "execution_count": 13,
   "id": "772e8314",
   "metadata": {},
   "outputs": [
    {
     "data": {
      "text/plain": [
       "2"
      ]
     },
     "execution_count": 13,
     "metadata": {},
     "output_type": "execute_result"
    }
   ],
   "source": [
    "numbers.count(34)"
   ]
  },
  {
   "cell_type": "code",
   "execution_count": 14,
   "id": "b1935a05",
   "metadata": {},
   "outputs": [
    {
     "name": "stdout",
     "output_type": "stream",
     "text": [
      "0\n",
      "1\n",
      "1\n",
      "2\n"
     ]
    }
   ],
   "source": [
    "print(numbers.count(1))\n",
    "print(numbers.count(12))\n",
    "print(numbers.count(23))\n",
    "print(numbers.count(67))"
   ]
  },
  {
   "cell_type": "code",
   "execution_count": 17,
   "id": "b61afa44",
   "metadata": {},
   "outputs": [
    {
     "name": "stdout",
     "output_type": "stream",
     "text": [
      "0\n",
      "2\n",
      "7\n"
     ]
    }
   ],
   "source": [
    "print(languages.index(\"c\"))\n",
    "print(languages.index(\"c++\"))\n",
    "print(languages.index(\"c#\"))      \n",
    "# print(languages.index(\"lisp\"))"
   ]
  },
  {
   "cell_type": "code",
   "execution_count": 21,
   "id": "31efb758",
   "metadata": {},
   "outputs": [
    {
     "name": "stdout",
     "output_type": "stream",
     "text": [
      "original ['scala', 'rust', 'python', 'mojo', 'kotlin', 'javascript', 'java', 'html', 'dart', 'c++', 'c#', 'c', 'assembly', 'Go']\n",
      "sorted ['Go', 'assembly', 'c', 'c#', 'c++', 'dart', 'html', 'java', 'javascript', 'kotlin', 'mojo', 'python', 'rust', 'scala']\n",
      "sorted in reverse ['scala', 'rust', 'python', 'mojo', 'kotlin', 'javascript', 'java', 'html', 'dart', 'c++', 'c#', 'c', 'assembly', 'Go']\n"
     ]
    }
   ],
   "source": [
    "print(\"original\",languages)\n",
    "languages.sort()\n",
    "print(\"sorted\",languages)\n",
    "languages.sort(reverse=True)\n",
    "print(\"sorted in reverse\",languages)"
   ]
  },
  {
   "cell_type": "code",
   "execution_count": 22,
   "id": "e4d7c8bc",
   "metadata": {},
   "outputs": [
    {
     "name": "stdout",
     "output_type": "stream",
     "text": [
      "original [1, 'apple', 2, 'banana', 3, 'orange']\n",
      "reversed ['orange', 3, 'banana', 2, 'apple', 1]\n"
     ]
    }
   ],
   "source": [
    "print(\"original\",data)\n",
    "data.reverse()\n",
    "print(\"reversed\",data)"
   ]
  },
  {
   "cell_type": "code",
   "execution_count": null,
   "id": "a8d00540",
   "metadata": {},
   "outputs": [],
   "source": [
    "fruits=['mango','banana','cherry','apple','orange','grapes','pear','liche','guava','chikoo','pineapple','watermelon']\n"
   ]
  },
  {
   "cell_type": "markdown",
   "id": "e3679b11",
   "metadata": {},
   "source": [
    "nested list"
   ]
  },
  {
   "cell_type": "code",
   "execution_count": 11,
   "id": "e80c519a",
   "metadata": {},
   "outputs": [
    {
     "name": "stdout",
     "output_type": "stream",
     "text": [
      "[]\n",
      "[[]]\n"
     ]
    }
   ],
   "source": [
    "x=[]\n",
    "x2=[[]]\n",
    "\n",
    "print(x)\n",
    "print(x2)"
   ]
  },
  {
   "cell_type": "code",
   "execution_count": 12,
   "id": "aef60643",
   "metadata": {},
   "outputs": [
    {
     "name": "stdout",
     "output_type": "stream",
     "text": [
      "[1, 2, 3]\n"
     ]
    }
   ],
   "source": [
    "x.append(1)\n",
    "x.append(2)\n",
    "x.append(3)\n",
    "print(x)"
   ]
  },
  {
   "cell_type": "code",
   "execution_count": 13,
   "id": "2b2a75ab",
   "metadata": {},
   "outputs": [
    {
     "name": "stdout",
     "output_type": "stream",
     "text": [
      "[[], 1, [1, 2, 3], [4, 5, 6]]\n"
     ]
    }
   ],
   "source": [
    "x2.append(1)\n",
    "x2.append([1,2,3])\n",
    "x2.append([4,5,6])\n",
    "print(x2)"
   ]
  },
  {
   "cell_type": "code",
   "execution_count": 14,
   "id": "5d6e9b6c",
   "metadata": {},
   "outputs": [
    {
     "name": "stdout",
     "output_type": "stream",
     "text": [
      "[['red', 'green', 'blue'], ['apple', 'guava', 'blueberry'], [150, 100, 300]]\n",
      "size of list 3\n",
      "size of list at index 0 is 3 => ['red', 'green', 'blue']\n",
      "size of list at index 1 is 3 => ['apple', 'guava', 'blueberry']\n",
      "size of list at index 0 is 3 => [150, 100, 300]\n",
      "elements 0 as list 0 is red\n",
      "elements 2 as list 0 is blue\n",
      "elements 0 as list 1 is apple\n",
      "elements 1 as list 1 is guava\n"
     ]
    }
   ],
   "source": [
    "items=[['red','green','blue'],['apple','guava','blueberry'],[150,100,300]]\n",
    "print(items)\n",
    "print(\"size of list\",len(items))\n",
    "print(\"size of list at index 0 is\",len(items[0]),\"=>\",items[0])\n",
    "print(\"size of list at index 1 is\",len(items[1]),\"=>\",items[1])\n",
    "print(\"size of list at index 0 is\",len(items[2]),\"=>\",items[2])\n",
    "print(\"elements 0 as list 0 is\",items[0][0])\n",
    "print(\"elements 2 as list 0 is\",items[0][2])\n",
    "print(\"elements 0 as list 1 is\",items[1][0])\n",
    "print(\"elements 1 as list 1 is\",items[1][1])"
   ]
  },
  {
   "cell_type": "code",
   "execution_count": 20,
   "id": "e1eb8fdc",
   "metadata": {},
   "outputs": [
    {
     "name": "stdout",
     "output_type": "stream",
     "text": [
      "[[12, 23, 45, 25], [85, 95, 25, 15], [30, 32, 35, 5]]\n",
      "size of list 3\n",
      "size of list at index 0 is 4 => [12, 23, 45, 25]\n",
      "size of list at index 1 is 4 => [85, 95, 25, 15]\n",
      "size of list at index 0 is 4 => [30, 32, 35, 5]\n",
      "elements 1 as list 1 is 95\n",
      "elements 1 as list 0 is 85\n",
      "elements 1 as list 2 is 25\n",
      "elements 1 as list 3 is 15\n"
     ]
    }
   ],
   "source": [
    "matrix=[[12,23,45,25],[85,95,25,15],[30,32,35,5]]\n",
    "print(matrix)\n",
    "\n",
    "print(\"size of list\",len(matrix))\n",
    "print(\"size of list at index 0 is\",len(matrix[0]),\"=>\",matrix[0])\n",
    "print(\"size of list at index 1 is\",len(matrix[1]),\"=>\",matrix[1])\n",
    "print(\"size of list at index 0 is\",len(matrix[2]),\"=>\",matrix[2])\n",
    "print(\"elements 1 as list 1 is\",matrix[1][1])\n",
    "print(\"elements 1 as list 0 is\",matrix[1][0])\n",
    "print(\"elements 1 as list 2 is\",matrix[1][2])\n",
    "print(\"elements 1 as list 3 is\",matrix[1][3])\n"
   ]
  },
  {
   "cell_type": "code",
   "execution_count": 21,
   "id": "23d66e0b",
   "metadata": {},
   "outputs": [
    {
     "name": "stdout",
     "output_type": "stream",
     "text": [
      "[12, 23, 45, 25]\n",
      "[85, 95, 25, 15]\n",
      "[30, 32, 35, 5]\n"
     ]
    }
   ],
   "source": [
    "for row in matrix:\n",
    "    print(row)"
   ]
  },
  {
   "cell_type": "code",
   "execution_count": 22,
   "id": "b7e0ba42",
   "metadata": {},
   "outputs": [
    {
     "name": "stdout",
     "output_type": "stream",
     "text": [
      "30 32 35 5 30 32 35 5 30 32 35 5 "
     ]
    }
   ],
   "source": [
    "#nested loop for nested list\n",
    "for i in matrix:\n",
    "    for val in row:\n",
    "        print(val,end=\" \")"
   ]
  },
  {
   "cell_type": "code",
   "execution_count": 23,
   "id": "52da1fa0",
   "metadata": {},
   "outputs": [
    {
     "name": "stdout",
     "output_type": "stream",
     "text": [
      "12 23 45 25 \n",
      "85 95 25 15 \n",
      "30 32 35 5 \n"
     ]
    }
   ],
   "source": [
    "#nested loop for nested list\n",
    "for row in matrix:\n",
    "    for val in row:\n",
    "        print(val,end=\" \")\n",
    "    print()"
   ]
  },
  {
   "cell_type": "code",
   "execution_count": 24,
   "id": "cbf76f45",
   "metadata": {},
   "outputs": [
    {
     "name": "stdout",
     "output_type": "stream",
     "text": [
      "427\n"
     ]
    }
   ],
   "source": [
    "total=0\n",
    "for row in matrix:\n",
    "    for val in row:\n",
    "        total+=val\n",
    "print(total)"
   ]
  },
  {
   "cell_type": "code",
   "execution_count": 3,
   "id": "413577ec",
   "metadata": {},
   "outputs": [
    {
     "name": "stdout",
     "output_type": "stream",
     "text": [
      "157959112500000000\n"
     ]
    }
   ],
   "source": [
    "total=1#product of matrix\n",
    "for row in matrix:\n",
    "    for val in row:\n",
    "        total*=val\n",
    "print(total)\n",
    "\n",
    "\n"
   ]
  },
  {
   "cell_type": "code",
   "execution_count": 4,
   "id": "9c271c35",
   "metadata": {},
   "outputs": [
    {
     "name": "stdout",
     "output_type": "stream",
     "text": [
      "[12, 23, 45, 25] => 105\n",
      "[85, 95, 25, 15] => 220\n",
      "[30, 32, 35, 5] => 102\n"
     ]
    }
   ],
   "source": [
    "for row in matrix:\n",
    "    total=0\n",
    "    for value in row:\n",
    "        total+=value\n",
    "    print(row,'=>',total)"
   ]
  },
  {
   "cell_type": "code",
   "execution_count": 9,
   "id": "f77af48c",
   "metadata": {},
   "outputs": [
    {
     "name": "stdout",
     "output_type": "stream",
     "text": [
      "[12, 23, 45, 25] => 26.2\n",
      "[85, 95, 25, 15] => 55.0\n",
      "[30, 32, 35, 5] => 25.5\n"
     ]
    }
   ],
   "source": [
    "for row in matrix:\n",
    "    total=0\n",
    "    for value in row:\n",
    "        total+=value\n",
    "    average=round(total/len(row),1)\n",
    "    print(row,'=>',average)"
   ]
  },
  {
   "cell_type": "code",
   "execution_count": 10,
   "id": "dcfcef0f",
   "metadata": {},
   "outputs": [
    {
     "name": "stdout",
     "output_type": "stream",
     "text": [
      "[12, 23, 45, 25] => 26.25\n",
      "[85, 95, 25, 15] => 55.0\n",
      "[30, 32, 35, 5] => 25.5\n"
     ]
    }
   ],
   "source": [
    "#average of row\n",
    "for row in matrix:\n",
    "    total=0\n",
    "    for value in row:\n",
    "        total+=value/len(row)\n",
    "    print(row,'=>',total)"
   ]
  },
  {
   "cell_type": "code",
   "execution_count": 11,
   "id": "f6f2e0f2",
   "metadata": {},
   "outputs": [
    {
     "name": "stdout",
     "output_type": "stream",
     "text": [
      "column 0 => 127\n",
      "column 1 => 150\n",
      "column 2 => 105\n",
      "column 3 => 45\n"
     ]
    }
   ],
   "source": [
    "#column wise sum matrix\n",
    "size=len(matrix[0])\n",
    "for c in range(size):\n",
    "    total=0\n",
    "    for r in range(len(matrix)):\n",
    "        total=total+matrix[r][c]\n",
    "    print(f\"column {c} => {total}\")\n",
    "    "
   ]
  },
  {
   "cell_type": "code",
   "execution_count": 12,
   "id": "94d198f2",
   "metadata": {},
   "outputs": [
    {
     "name": "stdout",
     "output_type": "stream",
     "text": [
      "42.33333333333333\n",
      "50.0\n",
      "35.0\n",
      "15.0\n"
     ]
    }
   ],
   "source": [
    "size=len(matrix[0])\n",
    "for c in range(size):\n",
    "    total=0\n",
    "    for r in range(len(matrix)):\n",
    "        total+=matrix[r][c]/len(matrix)\n",
    "    print(total)\n",
    "    "
   ]
  },
  {
   "cell_type": "code",
   "execution_count": 1,
   "id": "13749a04",
   "metadata": {},
   "outputs": [
    {
     "name": "stdout",
     "output_type": "stream",
     "text": [
      "1 \n",
      "5 6 \n",
      "9 10 11 \n",
      "13 14 15 16 \n"
     ]
    }
   ],
   "source": [
    "mat2=[[1,2,3,4],[5,6,7,8],[9,10,11,12],[13,14,15,16]]\n",
    "for r in range(len(mat2)):\n",
    "    for c in range(len(mat2[0])):\n",
    "        if(c <= r):\n",
    "            print(mat2[r][c],end=\" \")\n",
    "    print()\n",
    "    "
   ]
  },
  {
   "cell_type": "code",
   "execution_count": 3,
   "id": "fd82c731",
   "metadata": {},
   "outputs": [
    {
     "data": {
      "text/plain": [
       "[13, 15, 19]"
      ]
     },
     "execution_count": 3,
     "metadata": {},
     "output_type": "execute_result"
    }
   ],
   "source": [
    "#slicing\n",
    "x=[11,12,13,15,19]\n",
    "x[0:3]\n"
   ]
  },
  {
   "cell_type": "code",
   "execution_count": 4,
   "id": "6bcd6748",
   "metadata": {},
   "outputs": [
    {
     "data": {
      "text/plain": [
       "[13, 15, 19]"
      ]
     },
     "execution_count": 4,
     "metadata": {},
     "output_type": "execute_result"
    }
   ],
   "source": [
    "x=[11,12,13,15,19]\n",
    "x[2:len(x)]"
   ]
  },
  {
   "cell_type": "code",
   "execution_count": 11,
   "id": "1393df21",
   "metadata": {},
   "outputs": [
    {
     "data": {
      "text/plain": [
       "['y', 'u', 'o']"
      ]
     },
     "execution_count": 11,
     "metadata": {},
     "output_type": "execute_result"
    }
   ],
   "source": [
    "x=['e','r','t','y','u','o','k','f','j']\n",
    "x[3:-3]"
   ]
  },
  {
   "cell_type": "code",
   "execution_count": 16,
   "id": "7f40c01d",
   "metadata": {},
   "outputs": [
    {
     "data": {
      "text/plain": [
       "19"
      ]
     },
     "execution_count": 16,
     "metadata": {},
     "output_type": "execute_result"
    }
   ],
   "source": [
    "name=\"william shakespears\"\n",
    "len(name)\n"
   ]
  },
  {
   "cell_type": "code",
   "execution_count": 20,
   "id": "405f6ed8",
   "metadata": {},
   "outputs": [
    {
     "data": {
      "text/plain": [
       "'shakespears'"
      ]
     },
     "execution_count": 20,
     "metadata": {},
     "output_type": "execute_result"
    }
   ],
   "source": [
    "name[8:len(name)]"
   ]
  },
  {
   "cell_type": "code",
   "execution_count": 21,
   "id": "ebefbbec",
   "metadata": {},
   "outputs": [
    {
     "data": {
      "text/plain": [
       "'shake'"
      ]
     },
     "execution_count": 21,
     "metadata": {},
     "output_type": "execute_result"
    }
   ],
   "source": [
    "name[8:-6]"
   ]
  },
  {
   "cell_type": "code",
   "execution_count": 26,
   "id": "915bddec",
   "metadata": {},
   "outputs": [
    {
     "data": {
      "text/plain": [
       "'pear'"
      ]
     },
     "execution_count": 26,
     "metadata": {},
     "output_type": "execute_result"
    }
   ],
   "source": [
    "name[3:7]\n",
    "name[-5:-1]"
   ]
  },
  {
   "cell_type": "code",
   "execution_count": 30,
   "id": "d3b640d5",
   "metadata": {},
   "outputs": [
    {
     "data": {
      "text/plain": [
       "'william'"
      ]
     },
     "execution_count": 30,
     "metadata": {},
     "output_type": "execute_result"
    }
   ],
   "source": [
    "name[:7]"
   ]
  },
  {
   "cell_type": "code",
   "execution_count": 31,
   "id": "840e3f5b",
   "metadata": {},
   "outputs": [
    {
     "data": {
      "text/plain": [
       "'shakespears'"
      ]
     },
     "execution_count": 31,
     "metadata": {},
     "output_type": "execute_result"
    }
   ],
   "source": [
    "name[8:]"
   ]
  },
  {
   "cell_type": "code",
   "execution_count": null,
   "id": "74205c69",
   "metadata": {},
   "outputs": [],
   "source": [
    "#slicing facts\n",
    "->if starting from 0 index,you can skip it eg:x[:4] also like in lastx[5:]\n"
   ]
  },
  {
   "cell_type": "code",
   "execution_count": 33,
   "id": "35f8001e",
   "metadata": {},
   "outputs": [
    {
     "name": "stdout",
     "output_type": "stream",
     "text": [
      "william\n",
      "shakespears\n"
     ]
    }
   ],
   "source": [
    "fname=name[:7]\n",
    "lname=name[8:]\n",
    "print(fname)\n",
    "print(lname)"
   ]
  },
  {
   "cell_type": "code",
   "execution_count": 37,
   "id": "7fb498f7",
   "metadata": {},
   "outputs": [
    {
     "data": {
      "text/plain": [
       "'sivihai'"
      ]
     },
     "execution_count": 37,
     "metadata": {},
     "output_type": "execute_result"
    }
   ],
   "source": [
    "name=\"sri vaishnavi\"\n",
    "name[0:len(name):2]"
   ]
  },
  {
   "cell_type": "code",
   "execution_count": 38,
   "id": "f63b919a",
   "metadata": {},
   "outputs": [
    {
     "data": {
      "text/plain": [
       "'sivihai'"
      ]
     },
     "execution_count": 38,
     "metadata": {},
     "output_type": "execute_result"
    }
   ],
   "source": [
    "name[::2]#even item"
   ]
  },
  {
   "cell_type": "code",
   "execution_count": 39,
   "id": "ad48a3f8",
   "metadata": {},
   "outputs": [
    {
     "data": {
      "text/plain": [
       "'r asnv'"
      ]
     },
     "execution_count": 39,
     "metadata": {},
     "output_type": "execute_result"
    }
   ],
   "source": [
    "name[1::2]#odd item"
   ]
  },
  {
   "cell_type": "code",
   "execution_count": 3,
   "id": "6a6b7ec5",
   "metadata": {},
   "outputs": [
    {
     "name": "stdout",
     "output_type": "stream",
     "text": [
      "vinay\n"
     ]
    }
   ],
   "source": [
    "name=\"vinay deenanath chauhan\"\n",
    "fname=name[:5]\n",
    "print(fname)"
   ]
  },
  {
   "cell_type": "code",
   "execution_count": 5,
   "id": "d29aced1",
   "metadata": {},
   "outputs": [
    {
     "name": "stdout",
     "output_type": "stream",
     "text": [
      "deenanath \n",
      "chauhan\n"
     ]
    }
   ],
   "source": [
    "mname=name[6:16]\n",
    "lname=name[-7:]\n",
    "print(mname)\n",
    "print(lname)"
   ]
  },
  {
   "cell_type": "code",
   "execution_count": 6,
   "id": "6231521a",
   "metadata": {},
   "outputs": [
    {
     "data": {
      "text/plain": [
       "'vnydeaahcahn'"
      ]
     },
     "execution_count": 6,
     "metadata": {},
     "output_type": "execute_result"
    }
   ],
   "source": [
    "name[::2]"
   ]
  },
  {
   "cell_type": "code",
   "execution_count": 7,
   "id": "d75169b9",
   "metadata": {},
   "outputs": [
    {
     "data": {
      "text/plain": [
       "'ia ennt hua'"
      ]
     },
     "execution_count": 7,
     "metadata": {},
     "output_type": "execute_result"
    }
   ],
   "source": [
    "name[1::2]"
   ]
  },
  {
   "cell_type": "code",
   "execution_count": 8,
   "id": "5bc9ceac",
   "metadata": {},
   "outputs": [
    {
     "data": {
      "text/plain": [
       "'nahuahc htananeed yaniv'"
      ]
     },
     "execution_count": 8,
     "metadata": {},
     "output_type": "execute_result"
    }
   ],
   "source": [
    "name[::-1]"
   ]
  },
  {
   "cell_type": "code",
   "execution_count": 9,
   "id": "0ad1c259",
   "metadata": {},
   "outputs": [
    {
     "name": "stdout",
     "output_type": "stream",
     "text": [
      "13\n",
      "11\n",
      "9\n",
      "7\n",
      "6\n",
      "4\n",
      "3\n",
      "2\n",
      "1\n"
     ]
    }
   ],
   "source": [
    "x=[1,2,3,4,6,7,9,11,13]#reverse print element\n",
    "for item in x[::-1]:\n",
    "    print(item)"
   ]
  },
  {
   "cell_type": "code",
   "execution_count": 10,
   "id": "6ccaf4bb",
   "metadata": {},
   "outputs": [
    {
     "data": {
      "text/plain": [
       "[1, 2, 3]"
      ]
     },
     "execution_count": 10,
     "metadata": {},
     "output_type": "execute_result"
    }
   ],
   "source": [
    "a=[1,2,3]\n",
    "a[:]#display the list as it is"
   ]
  },
  {
   "cell_type": "code",
   "execution_count": 15,
   "id": "70db0c12",
   "metadata": {},
   "outputs": [
    {
     "name": "stdout",
     "output_type": "stream",
     "text": [
      "[1, 2, 3, 4, 5] [3, 4, 5, 1, 2]\n"
     ]
    }
   ],
   "source": [
    "#rotate list\n",
    "x=[1,2,3,4,5]\n",
    "ans=x[2:]+x[:2]\n",
    "print(x,ans)"
   ]
  },
  {
   "cell_type": "code",
   "execution_count": 16,
   "id": "c233ce13",
   "metadata": {},
   "outputs": [
    {
     "name": "stdout",
     "output_type": "stream",
     "text": [
      "[1, 3, 4, 5] [2, 6, 8, 10]\n"
     ]
    }
   ],
   "source": [
    "\n",
    "x=[1,3,4,5]\n",
    "x2=[]\n",
    "for i in x:\n",
    "    s=i*2\n",
    "    x2.append(s)\n",
    "print(x,x2)"
   ]
  },
  {
   "cell_type": "code",
   "execution_count": 17,
   "id": "d513380c",
   "metadata": {},
   "outputs": [
    {
     "name": "stdout",
     "output_type": "stream",
     "text": [
      "[4, 8, 12, 16] [2, 4, 6, 8]\n"
     ]
    }
   ],
   "source": [
    "x=[4,8,12,16]\n",
    "x3=[]\n",
    "for i in x:\n",
    "    x3.append(i//2)\n",
    "print(x,x3)"
   ]
  },
  {
   "cell_type": "code",
   "execution_count": 18,
   "id": "51a8e617",
   "metadata": {},
   "outputs": [
    {
     "name": "stdout",
     "output_type": "stream",
     "text": [
      "[1, 2, 3]\n",
      "[4, 5, 6]\n",
      "[5, 7, 9]\n"
     ]
    }
   ],
   "source": [
    "x=[1,2,3]\n",
    "y=[4,5,6]\n",
    "xy=[]\n",
    "for i,j in zip(x,y):#used in loops when u have more than one list\n",
    "    xy.append(i+j)\n",
    "print(x,y,xy,sep=\"\\n\")"
   ]
  },
  {
   "cell_type": "code",
   "execution_count": 19,
   "id": "16405081",
   "metadata": {},
   "outputs": [
    {
     "name": "stdout",
     "output_type": "stream",
     "text": [
      "[2, 3, 4] [4, 9, 16]\n"
     ]
    }
   ],
   "source": [
    "z=[2,3,4]\n",
    "zsqr=[]\n",
    "for i in z:\n",
    "    zsqr.append(i**2)\n",
    "print(z,zsqr)\n",
    "    "
   ]
  },
  {
   "cell_type": "code",
   "execution_count": 20,
   "id": "a2699497",
   "metadata": {},
   "outputs": [
    {
     "name": "stdout",
     "output_type": "stream",
     "text": [
      "[1, 2, 3] [2, 4, 6]\n"
     ]
    }
   ],
   "source": [
    "#comprehension can be done in sigle line\n",
    "y=[1,2,3]\n",
    "y2=[i*2 for i in y]\n",
    "print(y,y2)"
   ]
  },
  {
   "cell_type": "code",
   "execution_count": null,
   "id": "af711943",
   "metadata": {},
   "outputs": [],
   "source": [
    "#string\n",
    "#string is python datatype,in python,to store any kind of textualinformation we use string.there is no other type to store text\n",
    "#string creation\n",
    "a='apple'\n",
    "b=\"banana\"\n",
    "c='''this is \n",
    "     chocolate \n",
    "     cake'''"
   ]
  },
  {
   "cell_type": "code",
   "execution_count": 3,
   "id": "f369d3ae",
   "metadata": {},
   "outputs": [
    {
     "name": "stdout",
     "output_type": "stream",
     "text": [
      "10 <class 'str'>\n",
      "['apple,banana'] <class 'str'>\n"
     ]
    }
   ],
   "source": [
    "#typecasting\n",
    "x=str(10)\n",
    "y=str([\"apple,banana\"])\n",
    "print(x,type(x))\n",
    "print(y,type(y))\n"
   ]
  },
  {
   "cell_type": "code",
   "execution_count": 4,
   "id": "8af89a8a",
   "metadata": {},
   "outputs": [
    {
     "ename": "NameError",
     "evalue": "name 'a' is not defined",
     "output_type": "error",
     "traceback": [
      "\u001b[1;31m---------------------------------------------------------------------------\u001b[0m",
      "\u001b[1;31mNameError\u001b[0m                                 Traceback (most recent call last)",
      "Cell \u001b[1;32mIn[4], line 1\u001b[0m\n\u001b[1;32m----> 1\u001b[0m \u001b[38;5;28mprint\u001b[39m(a[\u001b[38;5;241m0\u001b[39m])\n\u001b[0;32m      2\u001b[0m a[\u001b[38;5;241m0\u001b[39m]\u001b[38;5;241m=\u001b[39m\u001b[38;5;124m'\u001b[39m\u001b[38;5;124mc\u001b[39m\u001b[38;5;124m'\u001b[39m\n",
      "\u001b[1;31mNameError\u001b[0m: name 'a' is not defined"
     ]
    }
   ],
   "source": [
    "a=\"apple\"\n",
    "print(a[0])\n",
    "a[0]='c'#strings  are immutable(cant change)"
   ]
  },
  {
   "cell_type": "code",
   "execution_count": 11,
   "id": "92a4d6a4",
   "metadata": {},
   "outputs": [
    {
     "name": "stdout",
     "output_type": "stream",
     "text": [
      "the point is ,i am not disappointed\n"
     ]
    }
   ],
   "source": [
    "#slicing and indexing\n",
    "x='disappointed'\n",
    "y=x[5:10]\n",
    "print(f\"the {y} is ,i am not {x}\")"
   ]
  },
  {
   "cell_type": "code",
   "execution_count": 14,
   "id": "92b1c28c",
   "metadata": {},
   "outputs": [
    {
     "name": "stdout",
     "output_type": "stream",
     "text": [
      "johny johny,yes papa\n",
      "telling lies,no papa\n",
      "\n"
     ]
    }
   ],
   "source": [
    "poem='''johny johny,yes papa\n",
    "telling lies,no papa\n",
    "eating sugar,no papa\n",
    "open your mouth,hahaha'''\n",
    "x=poem[0:20]\n",
    "y=poem[21:42]\n",
    "print(x)\n",
    "print(y)\n"
   ]
  },
  {
   "cell_type": "code",
   "execution_count": null,
   "id": "898f17ab",
   "metadata": {},
   "outputs": [],
   "source": []
  }
 ],
 "metadata": {
  "kernelspec": {
   "display_name": "Python 3 (ipykernel)",
   "language": "python",
   "name": "python3"
  },
  "language_info": {
   "codemirror_mode": {
    "name": "ipython",
    "version": 3
   },
   "file_extension": ".py",
   "mimetype": "text/x-python",
   "name": "python",
   "nbconvert_exporter": "python",
   "pygments_lexer": "ipython3",
   "version": "3.11.5"
  }
 },
 "nbformat": 4,
 "nbformat_minor": 5
}
