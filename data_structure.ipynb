{
 "cells": [
  {
   "cell_type": "code",
   "execution_count": 7,
   "id": "2dc1057d",
   "metadata": {},
   "outputs": [],
   "source": [
    "#data structure\n",
    "#list:is mutable and indexed,heterogenous(diff types of data),duplicated allowed\n",
    "#represented by[] and list( )\n",
    "#list is ordered datastructure\n",
    "x=[]# empty list\n",
    "x=list() #empty list\n",
    "y=[1,2,3]#direct initialization"
   ]
  },
  {
   "cell_type": "code",
   "execution_count": 6,
   "id": "9d6277a8",
   "metadata": {},
   "outputs": [
    {
     "name": "stdout",
     "output_type": "stream",
     "text": [
      "['apple', 'banana', 'orange']\n"
     ]
    }
   ],
   "source": [
    "z=[]\n",
    "z.append('apple')\n",
    "z.append('banana')\n",
    "z.append('orange')\n",
    "print(z)"
   ]
  },
  {
   "cell_type": "code",
   "execution_count": 8,
   "id": "91a52b19",
   "metadata": {},
   "outputs": [
    {
     "name": "stdout",
     "output_type": "stream",
     "text": [
      "[1, 2, 3] [4, 5, 6] [1, 2, 3, 4, 5, 6]\n"
     ]
    }
   ],
   "source": [
    "x=[1,2,3]\n",
    "y=[4,5,6]\n",
    "z=x+y\n",
    "print(x,y,z)"
   ]
  },
  {
   "cell_type": "code",
   "execution_count": 9,
   "id": "c87c1eb1",
   "metadata": {},
   "outputs": [
    {
     "name": "stdout",
     "output_type": "stream",
     "text": [
      "[1, 1, 1, 1, 1, 1, 1, 1, 1, 1]\n",
      "[1, 2, 1, 2, 1, 2, 1, 2, 1, 2]\n",
      "[1, 1, 1, 1, 1, 1, 1, 1, 1, 1, 1, 1, 1, 1, 1, 1, 1, 1, 1, 1]\n"
     ]
    }
   ],
   "source": [
    "#list of duplication\n",
    "a=[1]*10\n",
    "print(a)\n",
    "b=[1,2]*5\n",
    "c=a*2\n",
    "print(b)\n",
    "print(c)"
   ]
  },
  {
   "cell_type": "code",
   "execution_count": 10,
   "id": "48157eda",
   "metadata": {},
   "outputs": [
    {
     "name": "stdout",
     "output_type": "stream",
     "text": [
      "[1, 1, 1, 1, 1, 1, 1, 1, 1, 1]\n",
      "1\n",
      "1\n",
      "1\n",
      "1\n",
      "1\n",
      "1\n",
      "1\n",
      "1\n",
      "1\n",
      "1\n",
      "1\n",
      "1 1\n"
     ]
    }
   ],
   "source": [
    "print(a)\n",
    "#displaying single item at a time using loop\n",
    "for item in a:\n",
    "    print(item)\n",
    "#single element using index\n",
    "print(a[0])\n",
    "print(a[3],a[5])\n"
   ]
  },
  {
   "cell_type": "code",
   "execution_count": null,
   "id": "d00a6151",
   "metadata": {},
   "outputs": [],
   "source": [
    "students=[\"bhargav\",\"sameer\",\"srikanth\",\"yashwanth\",\"vamsi\",\"ram\",\"ajay\",\"balaji\",\"abhi\",\"yashwanth\",\"ruhi\",\"varsha\",\"sumitra\",\"lahari\",\"jyoshna\",\"meghana\",\"anjali\",\"sirisha\",\"sahithi\",\"geetha\"]"
   ]
  },
  {
   "cell_type": "code",
   "execution_count": 1,
   "id": "169d91de",
   "metadata": {},
   "outputs": [
    {
     "name": "stdout",
     "output_type": "stream",
     "text": [
      "['the way of king']\n",
      "['the way of king', 'the final empire', 'steelheart', 'ligeon']\n"
     ]
    }
   ],
   "source": [
    "books=[]\n",
    "books.append(\"the way of king\")\n",
    "print(books)\n",
    "books.append(\"the final empire\")\n",
    "books.append(\"steelheart\")\n",
    "books.append(\"ligeon\")\n",
    "print(books)"
   ]
  },
  {
   "cell_type": "code",
   "execution_count": 2,
   "id": "e1f5c011",
   "metadata": {},
   "outputs": [
    {
     "ename": "TypeError",
     "evalue": "list.append() takes exactly one argument (2 given)",
     "output_type": "error",
     "traceback": [
      "\u001b[1;31m---------------------------------------------------------------------------\u001b[0m",
      "\u001b[1;31mTypeError\u001b[0m                                 Traceback (most recent call last)",
      "Cell \u001b[1;32mIn[2], line 1\u001b[0m\n\u001b[1;32m----> 1\u001b[0m books\u001b[38;5;241m.\u001b[39mappend(\u001b[38;5;124m\"\u001b[39m\u001b[38;5;124mharry potter\u001b[39m\u001b[38;5;124m\"\u001b[39m,\u001b[38;5;124m\"\u001b[39m\u001b[38;5;124mjungle book\u001b[39m\u001b[38;5;124m\"\u001b[39m)\n",
      "\u001b[1;31mTypeError\u001b[0m: list.append() takes exactly one argument (2 given)"
     ]
    }
   ],
   "source": [
    "books.append(\"harry potter\",\"jungle book\")"
   ]
  },
  {
   "cell_type": "code",
   "execution_count": 6,
   "id": "902f312b",
   "metadata": {},
   "outputs": [
    {
     "name": "stdout",
     "output_type": "stream",
     "text": [
      "['red', 'green', 'blue', 'yellow', 'black']\n"
     ]
    }
   ],
   "source": [
    "colors=['red','green','blue']\n",
    "colors.extend(['yellow','black'])\n",
    "print(colors)"
   ]
  },
  {
   "cell_type": "code",
   "execution_count": 7,
   "id": "6f482b16",
   "metadata": {},
   "outputs": [
    {
     "name": "stdout",
     "output_type": "stream",
     "text": [
      "['red', 'green', 'blue', 'yellow', 'black', 'purple', 'pink', 'yellow']\n"
     ]
    }
   ],
   "source": [
    "colors2=[\"purple\",\"pink\",\"yellow\"]\n",
    "colors.extend(colors2)\n",
    "print(colors)"
   ]
  },
  {
   "cell_type": "code",
   "execution_count": 1,
   "id": "970c9bbe",
   "metadata": {},
   "outputs": [
    {
     "name": "stdout",
     "output_type": "stream",
     "text": [
      "enter movie namespushpa\n",
      "enter movie nameskalki\n",
      "enter movie namesit\n",
      "enter movie namesganga\n",
      "enter movie nameskanchana\n",
      "['pushpa', 'kalki', 'it', 'ganga', 'kanchana']\n"
     ]
    }
   ],
   "source": [
    "movies=[]\n",
    "for i in range(5):\n",
    "    value=input(\"enter movie names\")\n",
    "    movies.append(value)\n",
    "print(movies)"
   ]
  },
  {
   "cell_type": "code",
   "execution_count": 5,
   "id": "87d709f5",
   "metadata": {},
   "outputs": [
    {
     "name": "stdout",
     "output_type": "stream",
     "text": [
      "[1, 2, 5, 10]\n"
     ]
    }
   ],
   "source": [
    "x=[1,5,10]\n",
    "x.insert(1,2)#insert(index,value)\n",
    "print(x)"
   ]
  },
  {
   "cell_type": "code",
   "execution_count": 6,
   "id": "9d84109e",
   "metadata": {},
   "outputs": [
    {
     "name": "stdout",
     "output_type": "stream",
     "text": [
      "[1, 2, 3, 5, 9, 10]\n"
     ]
    }
   ],
   "source": [
    "x=[1,5,10]\n",
    "x.insert(1,2)#insert(index,value)\n",
    "x.insert(2,3)\n",
    "x.insert(4,9)\n",
    "print(x)"
   ]
  },
  {
   "cell_type": "code",
   "execution_count": null,
   "id": "333cec69",
   "metadata": {},
   "outputs": [],
   "source": [
    "#adding elements:\n",
    "-->append()-add one element to the end of the list\n",
    "-->extend()-append multiple items in a list\n",
    "-->insert()-add one element to a specific position\n",
    "#removing elements\n",
    "-->remove()-remove the first occurance of a value\n",
    "-->pop()-remove and return an element from an index\n",
    "-->clear()-remove all the elements from the list\n",
    "#utility methods\n",
    "-->count()\n",
    "-->index()\n",
    "-->sort()\n",
    "-->reverse()\n",
    "-->copy()\n"
   ]
  },
  {
   "cell_type": "code",
   "execution_count": 3,
   "id": "bd52a230",
   "metadata": {},
   "outputs": [
    {
     "name": "stdout",
     "output_type": "stream",
     "text": [
      "size of book list 9\n"
     ]
    }
   ],
   "source": [
    "books=['maths book','english book','science book','GK book','telugu book','biology book','physics book','do epic shit','wind the truth']\n",
    "print(\"size of book list\",len(books))"
   ]
  },
  {
   "cell_type": "code",
   "execution_count": 4,
   "id": "3f5424c3",
   "metadata": {},
   "outputs": [
    {
     "name": "stdout",
     "output_type": "stream",
     "text": [
      "['maths book', 'english book', 'science book', 'telugu book', 'biology book', 'physics book', 'do epic shit', 'wind the truth']\n"
     ]
    }
   ],
   "source": [
    "books.remove(\"GK book\")\n",
    "print(books)"
   ]
  },
  {
   "cell_type": "code",
   "execution_count": 5,
   "id": "5a27e4b5",
   "metadata": {},
   "outputs": [
    {
     "name": "stdout",
     "output_type": "stream",
     "text": [
      "['maths book', 'science book', 'telugu book', 'biology book', 'physics book', 'do epic shit', 'wind the truth']\n"
     ]
    }
   ],
   "source": [
    "if \"english book\" in books:\n",
    "    books.remove(\"english book\")\n",
    "print(books)"
   ]
  },
  {
   "cell_type": "code",
   "execution_count": 6,
   "id": "2c14bed4",
   "metadata": {},
   "outputs": [
    {
     "name": "stdout",
     "output_type": "stream",
     "text": [
      "size of book 7\n"
     ]
    }
   ],
   "source": [
    "print(\"size of book\",len(books))"
   ]
  },
  {
   "cell_type": "code",
   "execution_count": 7,
   "id": "7a5f00a4",
   "metadata": {},
   "outputs": [
    {
     "data": {
      "text/plain": [
       "'biology book'"
      ]
     },
     "execution_count": 7,
     "metadata": {},
     "output_type": "execute_result"
    }
   ],
   "source": [
    "#pop() without any index will remove the last element\n",
    "books.pop(3)"
   ]
  },
  {
   "cell_type": "code",
   "execution_count": 8,
   "id": "b2113fb2",
   "metadata": {},
   "outputs": [
    {
     "data": {
      "text/plain": [
       "'wind the truth'"
      ]
     },
     "execution_count": 8,
     "metadata": {},
     "output_type": "execute_result"
    }
   ],
   "source": [
    "books.pop()"
   ]
  },
  {
   "cell_type": "code",
   "execution_count": 10,
   "id": "155305dd",
   "metadata": {},
   "outputs": [
    {
     "name": "stdout",
     "output_type": "stream",
     "text": [
      "[]\n"
     ]
    }
   ],
   "source": [
    "books.clear()\n",
    "print(books)"
   ]
  },
  {
   "cell_type": "code",
   "execution_count": 12,
   "id": "9f8c8266",
   "metadata": {},
   "outputs": [
    {
     "name": "stdout",
     "output_type": "stream",
     "text": [
      "size of languages 14\n",
      "['c', 'python', 'c++', 'java', 'kotlin', 'dart', 'Go', 'c#', 'html', 'javascript', 'rust', 'mojo', 'assembly', 'scala']\n"
     ]
    }
   ],
   "source": [
    "languages=['c','python','c++','java','kotlin','dart','Go','c#','html','javascript','rust','mojo','assembly','scala']\n",
    "print(\"size of languages\",len(languages))\n",
    "print(languages)\n",
    "numbers=[12,56,78,34,67,89,45,34,23,45,67,23,47,67]\n",
    "data=[1,'apple',2,'banana',3,'orange']\n"
   ]
  },
  {
   "cell_type": "code",
   "execution_count": 13,
   "id": "772e8314",
   "metadata": {},
   "outputs": [
    {
     "data": {
      "text/plain": [
       "2"
      ]
     },
     "execution_count": 13,
     "metadata": {},
     "output_type": "execute_result"
    }
   ],
   "source": [
    "numbers.count(34)"
   ]
  },
  {
   "cell_type": "code",
   "execution_count": 14,
   "id": "b1935a05",
   "metadata": {},
   "outputs": [
    {
     "name": "stdout",
     "output_type": "stream",
     "text": [
      "0\n",
      "1\n",
      "1\n",
      "2\n"
     ]
    }
   ],
   "source": [
    "print(numbers.count(1))\n",
    "print(numbers.count(12))\n",
    "print(numbers.count(23))\n",
    "print(numbers.count(67))"
   ]
  },
  {
   "cell_type": "code",
   "execution_count": 17,
   "id": "b61afa44",
   "metadata": {},
   "outputs": [
    {
     "name": "stdout",
     "output_type": "stream",
     "text": [
      "0\n",
      "2\n",
      "7\n"
     ]
    }
   ],
   "source": [
    "print(languages.index(\"c\"))\n",
    "print(languages.index(\"c++\"))\n",
    "print(languages.index(\"c#\"))      \n",
    "# print(languages.index(\"lisp\"))"
   ]
  },
  {
   "cell_type": "code",
   "execution_count": 21,
   "id": "31efb758",
   "metadata": {},
   "outputs": [
    {
     "name": "stdout",
     "output_type": "stream",
     "text": [
      "original ['scala', 'rust', 'python', 'mojo', 'kotlin', 'javascript', 'java', 'html', 'dart', 'c++', 'c#', 'c', 'assembly', 'Go']\n",
      "sorted ['Go', 'assembly', 'c', 'c#', 'c++', 'dart', 'html', 'java', 'javascript', 'kotlin', 'mojo', 'python', 'rust', 'scala']\n",
      "sorted in reverse ['scala', 'rust', 'python', 'mojo', 'kotlin', 'javascript', 'java', 'html', 'dart', 'c++', 'c#', 'c', 'assembly', 'Go']\n"
     ]
    }
   ],
   "source": [
    "print(\"original\",languages)\n",
    "languages.sort()\n",
    "print(\"sorted\",languages)\n",
    "languages.sort(reverse=True)\n",
    "print(\"sorted in reverse\",languages)"
   ]
  },
  {
   "cell_type": "code",
   "execution_count": 22,
   "id": "e4d7c8bc",
   "metadata": {},
   "outputs": [
    {
     "name": "stdout",
     "output_type": "stream",
     "text": [
      "original [1, 'apple', 2, 'banana', 3, 'orange']\n",
      "reversed ['orange', 3, 'banana', 2, 'apple', 1]\n"
     ]
    }
   ],
   "source": [
    "print(\"original\",data)\n",
    "data.reverse()\n",
    "print(\"reversed\",data)"
   ]
  },
  {
   "cell_type": "code",
   "execution_count": null,
   "id": "bcba4a7d",
   "metadata": {},
   "outputs": [],
   "source": []
  }
 ],
 "metadata": {
  "kernelspec": {
   "display_name": "Python 3 (ipykernel)",
   "language": "python",
   "name": "python3"
  },
  "language_info": {
   "codemirror_mode": {
    "name": "ipython",
    "version": 3
   },
   "file_extension": ".py",
   "mimetype": "text/x-python",
   "name": "python",
   "nbconvert_exporter": "python",
   "pygments_lexer": "ipython3",
   "version": "3.11.5"
  }
 },
 "nbformat": 4,
 "nbformat_minor": 5
}
